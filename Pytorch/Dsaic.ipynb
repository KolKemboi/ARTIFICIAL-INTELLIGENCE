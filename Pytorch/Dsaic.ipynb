{
 "cells": [
  {
   "cell_type": "markdown",
   "id": "3a09e383-e225-42a4-84e1-a30e36fd01b5",
   "metadata": {},
   "source": [
    "## INTO THE DEEP LEARNING UNIVERSE"
   ]
  },
  {
   "cell_type": "code",
   "execution_count": 1,
   "id": "fe847c5f-de39-43a9-b7ae-61480641e7a6",
   "metadata": {},
   "outputs": [],
   "source": [
    "import torch\n",
    "from torch import nn\n",
    "from torch.utils.data import DataLoader\n",
    "from torchvision import datasets\n",
    "from torchvision.transforms import ToTensor\n",
    "import numpy as np\n"
   ]
  },
  {
   "cell_type": "code",
   "execution_count": 2,
   "id": "6f7e4d8a-64ee-47bc-b5f1-f56506ac6c26",
   "metadata": {},
   "outputs": [],
   "source": [
    "train_data = datasets.FashionMNIST(\n",
    "    root = \"data\",\n",
    "    train = True,\n",
    "    download = True,\n",
    "    transform = ToTensor(),\n",
    "    )\n"
   ]
  },
  {
   "cell_type": "code",
   "execution_count": 3,
   "id": "c9392c8b-f19e-4338-b4d3-e51da4ec9b06",
   "metadata": {},
   "outputs": [],
   "source": [
    "test_data = datasets.FashionMNIST(\n",
    "    root = \"data\",\n",
    "    train = False,\n",
    "    download = True,\n",
    "    transform = ToTensor(),\n",
    "    )"
   ]
  },
  {
   "cell_type": "code",
   "execution_count": 4,
   "id": "535c684b-774e-4737-a11e-cc640a92936a",
   "metadata": {},
   "outputs": [],
   "source": [
    "batch_size = 64"
   ]
  },
  {
   "cell_type": "code",
   "execution_count": 5,
   "id": "55e4f659-5000-4a64-9ec3-92f67cb25219",
   "metadata": {},
   "outputs": [],
   "source": [
    "train_loader = DataLoader(train_data, batch_size = batch_size)\n",
    "test_loader = DataLoader(test_data, batch_size = batch_size)"
   ]
  },
  {
   "cell_type": "code",
   "execution_count": 6,
   "id": "58832509-95a1-4505-b140-f5edf2204e04",
   "metadata": {},
   "outputs": [
    {
     "name": "stdout",
     "output_type": "stream",
     "text": [
      "Shape of X: torch.Size([64, 1, 28, 28])\n",
      "Shape of y: torch.Size([64])\n"
     ]
    }
   ],
   "source": [
    "for X, y in test_loader:\n",
    "    print(f\"Shape of X: {X.shape}\")\n",
    "    print(f\"Shape of y: {y.shape}\")\n",
    "    break\n"
   ]
  },
  {
   "cell_type": "code",
   "execution_count": 7,
   "id": "f563661a-6411-4ae8-8494-9bac5a893dbc",
   "metadata": {},
   "outputs": [],
   "source": [
    "device = (\n",
    "    \"cuda\"\n",
    "    if torch.cuda.is_available()\n",
    "    else \"mps\"\n",
    "    if torch.backends.mps.is_available()\n",
    "    else \"cpu\"\n",
    ")"
   ]
  },
  {
   "cell_type": "code",
   "execution_count": 8,
   "id": "1c589b13-90c3-4968-9768-69d2686f3ae9",
   "metadata": {},
   "outputs": [
    {
     "name": "stdout",
     "output_type": "stream",
     "text": [
      "Using cpu\n"
     ]
    }
   ],
   "source": [
    "print(f\"Using {device}\")"
   ]
  },
  {
   "cell_type": "code",
   "execution_count": 9,
   "id": "37d02758-57df-440b-ad96-a60ad76495c4",
   "metadata": {},
   "outputs": [],
   "source": [
    "class NeuralNet(nn.Module):\n",
    "    def __init__(self):\n",
    "        super().__init__()\n",
    "        self.flatten = nn.Flatten()\n",
    "        self.linear_relu_stack = nn.Sequential(\n",
    "            nn.Linear(28*28, 512),\n",
    "            nn.ReLU(),\n",
    "            nn.Linear(512, 512),\n",
    "            nn.ReLU(),\n",
    "            nn.Linear(512, 10)\n",
    "            )\n",
    "\n",
    "    def forward(self, x):\n",
    "        x = self.flatten(x)\n",
    "        logits = self.linear_relu_stack(x)\n",
    "        return logits\n"
   ]
  },
  {
   "cell_type": "code",
   "execution_count": 10,
   "id": "55161476-6915-4a70-b419-2dafb540c84d",
   "metadata": {},
   "outputs": [],
   "source": [
    "model = NeuralNet().to(device)"
   ]
  },
  {
   "cell_type": "code",
   "execution_count": 11,
   "id": "af5120e1-56c5-4b23-8fb2-d054630441a8",
   "metadata": {},
   "outputs": [
    {
     "name": "stdout",
     "output_type": "stream",
     "text": [
      "NeuralNet(\n",
      "  (flatten): Flatten(start_dim=1, end_dim=-1)\n",
      "  (linear_relu_stack): Sequential(\n",
      "    (0): Linear(in_features=784, out_features=512, bias=True)\n",
      "    (1): ReLU()\n",
      "    (2): Linear(in_features=512, out_features=512, bias=True)\n",
      "    (3): ReLU()\n",
      "    (4): Linear(in_features=512, out_features=10, bias=True)\n",
      "  )\n",
      ")\n"
     ]
    }
   ],
   "source": [
    "print(model)\n"
   ]
  },
  {
   "cell_type": "code",
   "execution_count": 12,
   "id": "3ee234d3-df57-4a79-9fae-3a20580ac65d",
   "metadata": {},
   "outputs": [],
   "source": [
    "loss_fn = nn.CrossEntropyLoss()\n",
    "optimizer = torch.optim.SGD(model.parameters(), lr = 1e-3)\n"
   ]
  },
  {
   "cell_type": "code",
   "execution_count": 13,
   "id": "3e8b3d92-fabf-4d03-af3b-61650d832e79",
   "metadata": {},
   "outputs": [],
   "source": [
    "def train(dataloader, model, loss_fn, optimizer):\n",
    "    size = len(dataloader.dataset)\n",
    "    model.train()\n",
    "    for batch, (X, y) in enumerate(dataloader):\n",
    "        X, y = X.to(device), y.to(device)\n",
    "\n",
    "        pred = model(X)\n",
    "        loss = loss_fn(pred, y)\n",
    "\n",
    "        loss.backward()\n",
    "        optimizer.step()\n",
    "        optimizer.zero_grad()\n",
    "\n",
    "        if batch%100 == 0:\n",
    "            loss, current = loss.item(), (batch + 1) * len(X)\n",
    "            print(f\"loss: {loss:>7f} [{current:>5d}/{size:>5d}]\")\n"
   ]
  },
  {
   "cell_type": "code",
   "execution_count": 14,
   "id": "8a327109-90fd-4671-bc9f-0ceb43a4653a",
   "metadata": {},
   "outputs": [],
   "source": [
    "def test(dataloader, model, loss_fn):\n",
    "    size = len(dataloader.dataset)\n",
    "    num_batches = len(dataloader)\n",
    "    model.eval()\n",
    "    test_loss, correct = 0, 0\n",
    "    with torch.no_grad():\n",
    "        for X, y in dataloader:\n",
    "            X, y = X.to(device), y.to(device)\n",
    "            pred = model(X)\n",
    "            test_loss += loss_fn(pred, y).item()\n",
    "            correct += (pred.argmax(1) == y).type(torch.float).sum().item()\n",
    "\n",
    "        test_loss /= num_batches\n",
    "        correct /= size\n",
    "        print(f\"test error: \\n Acc: {100*correct:>0.1f}, avg loss: {test_loss:>8f}\\n\")\n",
    "\n"
   ]
  },
  {
   "cell_type": "code",
   "execution_count": 15,
   "id": "e1f39035-0f5c-4ac7-8e4e-be0a67bdcc1d",
   "metadata": {},
   "outputs": [],
   "source": [
    "epoch = 5"
   ]
  },
  {
   "cell_type": "code",
   "execution_count": 16,
   "id": "c4e2ca52-64fe-410e-9cc8-d6e664ce8cc7",
   "metadata": {},
   "outputs": [
    {
     "name": "stdout",
     "output_type": "stream",
     "text": [
      "Epoch1 \n",
      " ----------------------------\n",
      "loss: 2.306738 [   64/60000]\n",
      "loss: 2.293072 [ 6464/60000]\n",
      "loss: 2.266226 [12864/60000]\n",
      "loss: 2.267465 [19264/60000]\n",
      "loss: 2.242602 [25664/60000]\n",
      "loss: 2.217076 [32064/60000]\n",
      "loss: 2.230056 [38464/60000]\n",
      "loss: 2.187651 [44864/60000]\n",
      "loss: 2.199427 [51264/60000]\n",
      "loss: 2.165623 [57664/60000]\n",
      "test error: \n",
      " Acc: 44.2, avg loss: 2.156245\n",
      "\n",
      "Epoch2 \n",
      " ----------------------------\n",
      "loss: 2.168254 [   64/60000]\n",
      "loss: 2.163271 [ 6464/60000]\n",
      "loss: 2.097800 [12864/60000]\n",
      "loss: 2.121795 [19264/60000]\n",
      "loss: 2.071419 [25664/60000]\n",
      "loss: 2.009935 [32064/60000]\n",
      "loss: 2.049729 [38464/60000]\n",
      "loss: 1.961364 [44864/60000]\n",
      "loss: 1.979541 [51264/60000]\n",
      "loss: 1.912710 [57664/60000]\n",
      "test error: \n",
      " Acc: 52.4, avg loss: 1.902170\n",
      "\n",
      "Epoch3 \n",
      " ----------------------------\n",
      "loss: 1.937667 [   64/60000]\n",
      "loss: 1.912861 [ 6464/60000]\n",
      "loss: 1.789343 [12864/60000]\n",
      "loss: 1.837205 [19264/60000]\n",
      "loss: 1.727654 [25664/60000]\n",
      "loss: 1.677004 [32064/60000]\n",
      "loss: 1.712772 [38464/60000]\n",
      "loss: 1.597859 [44864/60000]\n",
      "loss: 1.635738 [51264/60000]\n",
      "loss: 1.537714 [57664/60000]\n",
      "test error: \n",
      " Acc: 58.4, avg loss: 1.541333\n",
      "\n",
      "Epoch4 \n",
      " ----------------------------\n",
      "loss: 1.611585 [   64/60000]\n",
      "loss: 1.575715 [ 6464/60000]\n",
      "loss: 1.420056 [12864/60000]\n",
      "loss: 1.500032 [19264/60000]\n",
      "loss: 1.375755 [25664/60000]\n",
      "loss: 1.370032 [32064/60000]\n",
      "loss: 1.396016 [38464/60000]\n",
      "loss: 1.301097 [44864/60000]\n",
      "loss: 1.349636 [51264/60000]\n",
      "loss: 1.253402 [57664/60000]\n",
      "test error: \n",
      " Acc: 62.5, avg loss: 1.271193\n",
      "\n",
      "Epoch5 \n",
      " ----------------------------\n",
      "loss: 1.351129 [   64/60000]\n",
      "loss: 1.330556 [ 6464/60000]\n",
      "loss: 1.161884 [12864/60000]\n",
      "loss: 1.273448 [19264/60000]\n",
      "loss: 1.145038 [25664/60000]\n",
      "loss: 1.168414 [32064/60000]\n",
      "loss: 1.198466 [38464/60000]\n",
      "loss: 1.115723 [44864/60000]\n",
      "loss: 1.169950 [51264/60000]\n",
      "loss: 1.084561 [57664/60000]\n",
      "test error: \n",
      " Acc: 64.6, avg loss: 1.101618\n",
      "\n",
      "Done\n"
     ]
    }
   ],
   "source": [
    "for t in range(epoch):\n",
    "    print(f\"Epoch{t + 1} \\n ----------------------------\")\n",
    "    train(train_loader, model, loss_fn, optimizer)\n",
    "    test(test_loader, model, loss_fn)\n",
    "print(\"Done\")"
   ]
  },
  {
   "cell_type": "code",
   "execution_count": null,
   "id": "67ef56b7-836c-497d-a439-09e45e0ac1f4",
   "metadata": {},
   "outputs": [],
   "source": []
  }
 ],
 "metadata": {
  "kernelspec": {
   "display_name": "Python 3 (ipykernel)",
   "language": "python",
   "name": "python3"
  },
  "language_info": {
   "codemirror_mode": {
    "name": "ipython",
    "version": 3
   },
   "file_extension": ".py",
   "mimetype": "text/x-python",
   "name": "python",
   "nbconvert_exporter": "python",
   "pygments_lexer": "ipython3",
   "version": "3.10.0"
  }
 },
 "nbformat": 4,
 "nbformat_minor": 5
}

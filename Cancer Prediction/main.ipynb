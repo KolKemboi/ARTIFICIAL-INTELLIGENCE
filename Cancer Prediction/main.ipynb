{
 "cells": [
  {
   "cell_type": "code",
   "execution_count": 1,
   "id": "2256f599-db3e-48cf-9e40-35bd2e094317",
   "metadata": {},
   "outputs": [],
   "source": [
    "import tensorflow as tf\n",
    "import keras\n",
    "from keras.models import Sequential\n",
    "from keras.layers import Conv2D, MaxPooling2D, BatchNormalization, Dropout, Flatten, Dense\n",
    "import matplotlib.pyplot as plt"
   ]
  },
  {
   "cell_type": "code",
   "execution_count": 4,
   "id": "b1a85429-11f5-4598-9495-1ad8a04bbc6d",
   "metadata": {},
   "outputs": [],
   "source": [
    "import os\n",
    "data_path = \"C:\\\\Users\\\\kolke\\\\Documents\\\\Machine Learning\\\\datasets\\\\cancer pred\"\n",
    "data_folders = os.listdir(data_path)"
   ]
  },
  {
   "cell_type": "code",
   "execution_count": 5,
   "id": "f5afb143-df73-4351-8b7d-8549ccc4a138",
   "metadata": {},
   "outputs": [
    {
     "data": {
      "text/plain": [
       "['test', 'train', 'valid']"
      ]
     },
     "execution_count": 5,
     "metadata": {},
     "output_type": "execute_result"
    }
   ],
   "source": [
    "data_folders"
   ]
  },
  {
   "cell_type": "code",
   "execution_count": 9,
   "id": "19c21887-29f6-4ab8-aab7-657229afc644",
   "metadata": {},
   "outputs": [],
   "source": [
    "train_data_path = os.path.join(data_path, data_folders[1])\n",
    "valid_data_path = os.path.join(data_path, data_folders[2])\n",
    "test_data_path = os.path.join(data_path, data_folders[0])"
   ]
  },
  {
   "cell_type": "code",
   "execution_count": 10,
   "id": "6ee48161-c5c4-4485-858d-a56e1493b95e",
   "metadata": {},
   "outputs": [
    {
     "data": {
      "text/plain": [
       "['adenocarcinoma left lower lobe',\n",
       " 'large cell carcinoma left hilum',\n",
       " 'normal',\n",
       " 'squamous cell carcinoma left hilum']"
      ]
     },
     "execution_count": 10,
     "metadata": {},
     "output_type": "execute_result"
    }
   ],
   "source": [
    "os.listdir(train_data_path)"
   ]
  },
  {
   "cell_type": "code",
   "execution_count": 11,
   "id": "585c3876-d2b4-4012-998f-bc8c2ab2252d",
   "metadata": {},
   "outputs": [],
   "source": [
    "class_names = os.listdir(train_data_path)"
   ]
  },
  {
   "cell_type": "code",
   "execution_count": 12,
   "id": "c5d9888e-7a01-4b15-8c2c-8dfcb2fbd460",
   "metadata": {},
   "outputs": [],
   "source": [
    "image_width = 64\n",
    "image_height = 64"
   ]
  },
  {
   "cell_type": "code",
   "execution_count": 13,
   "id": "59126609-8fed-43bd-aa43-28a57c8b1d31",
   "metadata": {},
   "outputs": [
    {
     "name": "stdout",
     "output_type": "stream",
     "text": [
      "Found 612 files belonging to 4 classes.\n"
     ]
    }
   ],
   "source": [
    "train_data = tf.keras.utils.image_dataset_from_directory(\n",
    "    train_data_path,\n",
    "    labels='inferred',\n",
    "    label_mode='int',\n",
    "    class_names=class_names,\n",
    "    color_mode='grayscale',\n",
    "    batch_size=32,\n",
    "    image_size=(image_width, image_height),\n",
    "    shuffle=True,\n",
    "    seed=None,\n",
    "    validation_split=None,\n",
    "    subset=None,\n",
    "    interpolation='bilinear',\n",
    "    follow_links=False,\n",
    "    crop_to_aspect_ratio=False,\n",
    "    pad_to_aspect_ratio=False,\n",
    "    data_format=None,\n",
    "    verbose=True,\n",
    ")"
   ]
  },
  {
   "cell_type": "code",
   "execution_count": 14,
   "id": "746e59dd-8dd8-4cec-9ff7-6d7865e0be94",
   "metadata": {},
   "outputs": [
    {
     "name": "stdout",
     "output_type": "stream",
     "text": [
      "Found 72 files belonging to 4 classes.\n"
     ]
    }
   ],
   "source": [
    "validation_data = tf.keras.utils.image_dataset_from_directory(\n",
    "    valid_data_path,\n",
    "    labels='inferred',\n",
    "    label_mode='int',\n",
    "    class_names=class_names,\n",
    "    color_mode='grayscale',\n",
    "    batch_size=32,\n",
    "    image_size=(image_width, image_height),\n",
    "    shuffle=True,\n",
    "    seed=None,\n",
    "    validation_split=None,\n",
    "    subset=None,\n",
    "    interpolation='bilinear',\n",
    "    follow_links=False,\n",
    "    crop_to_aspect_ratio=False,\n",
    "    pad_to_aspect_ratio=False,\n",
    "    data_format=None,\n",
    "    verbose=True,\n",
    ")"
   ]
  },
  {
   "cell_type": "code",
   "execution_count": 15,
   "id": "82e7a6b0-4e70-4303-aee0-b4ededfc64bb",
   "metadata": {},
   "outputs": [
    {
     "name": "stdout",
     "output_type": "stream",
     "text": [
      "Found 315 files belonging to 4 classes.\n"
     ]
    }
   ],
   "source": [
    "test_data = tf.keras.utils.image_dataset_from_directory(\n",
    "    test_data_path,\n",
    "    labels='inferred',\n",
    "    label_mode='int',\n",
    "    class_names=class_names,\n",
    "    color_mode='grayscale',\n",
    "    batch_size=32,\n",
    "    image_size=(image_width, image_height),\n",
    "    shuffle=True,\n",
    "    seed=None,\n",
    "    validation_split=None,\n",
    "    subset=None,\n",
    "    interpolation='bilinear',\n",
    "    follow_links=False,\n",
    "    crop_to_aspect_ratio=False,\n",
    "    pad_to_aspect_ratio=False,\n",
    "    data_format=None,\n",
    "    verbose=True,\n",
    ")"
   ]
  },
  {
   "cell_type": "code",
   "execution_count": null,
   "id": "a51615bd-13ea-46c2-ba26-fd01b9778ced",
   "metadata": {},
   "outputs": [],
   "source": []
  }
 ],
 "metadata": {
  "kernelspec": {
   "display_name": "Python 3 (ipykernel)",
   "language": "python",
   "name": "python3"
  },
  "language_info": {
   "codemirror_mode": {
    "name": "ipython",
    "version": 3
   },
   "file_extension": ".py",
   "mimetype": "text/x-python",
   "name": "python",
   "nbconvert_exporter": "python",
   "pygments_lexer": "ipython3",
   "version": "3.11.8"
  }
 },
 "nbformat": 4,
 "nbformat_minor": 5
}

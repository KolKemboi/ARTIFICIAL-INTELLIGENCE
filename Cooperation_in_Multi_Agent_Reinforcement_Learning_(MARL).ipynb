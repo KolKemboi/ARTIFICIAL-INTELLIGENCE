{
  "nbformat": 4,
  "nbformat_minor": 0,
  "metadata": {
    "colab": {
      "provenance": [],
      "authorship_tag": "ABX9TyP/q5XAGgAJY+DT4abmC0Cw",
      "include_colab_link": true
    },
    "kernelspec": {
      "name": "python3",
      "display_name": "Python 3"
    },
    "language_info": {
      "name": "python"
    }
  },
  "cells": [
    {
      "cell_type": "markdown",
      "metadata": {
        "id": "view-in-github",
        "colab_type": "text"
      },
      "source": [
        "<a href=\"https://colab.research.google.com/github/KolKemboi/ARTIFICIAL-INTELLIGENCE/blob/Reinforcement-Learning/Cooperation_in_Multi_Agent_Reinforcement_Learning_(MARL).ipynb\" target=\"_parent\"><img src=\"https://colab.research.google.com/assets/colab-badge.svg\" alt=\"Open In Colab\"/></a>"
      ]
    },
    {
      "cell_type": "code",
      "execution_count": null,
      "metadata": {
        "id": "z4rm3ZThz83Z"
      },
      "outputs": [],
      "source": []
    }
  ]
}
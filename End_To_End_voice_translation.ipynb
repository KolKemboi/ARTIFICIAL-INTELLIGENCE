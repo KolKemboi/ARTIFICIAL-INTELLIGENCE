{
  "nbformat": 4,
  "nbformat_minor": 0,
  "metadata": {
    "colab": {
      "provenance": [],
      "gpuType": "T4",
      "authorship_tag": "ABX9TyNyyXPPrVzC3Ze03RmCMvj3",
      "include_colab_link": true
    },
    "kernelspec": {
      "name": "python3",
      "display_name": "Python 3"
    },
    "language_info": {
      "name": "python"
    },
    "accelerator": "GPU",
    "widgets": {
      "application/vnd.jupyter.widget-state+json": {
        "849530af20c44b31ba8a510a09305bf6": {
          "model_module": "@jupyter-widgets/controls",
          "model_name": "HBoxModel",
          "model_module_version": "1.5.0",
          "state": {
            "_dom_classes": [],
            "_model_module": "@jupyter-widgets/controls",
            "_model_module_version": "1.5.0",
            "_model_name": "HBoxModel",
            "_view_count": null,
            "_view_module": "@jupyter-widgets/controls",
            "_view_module_version": "1.5.0",
            "_view_name": "HBoxView",
            "box_style": "",
            "children": [
              "IPY_MODEL_3b43ccb644cc407da053b2b6ad09e6c1",
              "IPY_MODEL_c914a8c3c25f4c85a2994d800b8ceecd",
              "IPY_MODEL_29c2f0b229cc498296f999a8c55ff24b"
            ],
            "layout": "IPY_MODEL_3b90bcabcfb94adba103bd63500e7950"
          }
        },
        "3b43ccb644cc407da053b2b6ad09e6c1": {
          "model_module": "@jupyter-widgets/controls",
          "model_name": "HTMLModel",
          "model_module_version": "1.5.0",
          "state": {
            "_dom_classes": [],
            "_model_module": "@jupyter-widgets/controls",
            "_model_module_version": "1.5.0",
            "_model_name": "HTMLModel",
            "_view_count": null,
            "_view_module": "@jupyter-widgets/controls",
            "_view_module_version": "1.5.0",
            "_view_name": "HTMLView",
            "description": "",
            "description_tooltip": null,
            "layout": "IPY_MODEL_da9d4b0b31204f899761688ac46dd7a8",
            "placeholder": "​",
            "style": "IPY_MODEL_e1116678300f4e7986de27797bde8e65",
            "value": "config.json: 100%"
          }
        },
        "c914a8c3c25f4c85a2994d800b8ceecd": {
          "model_module": "@jupyter-widgets/controls",
          "model_name": "FloatProgressModel",
          "model_module_version": "1.5.0",
          "state": {
            "_dom_classes": [],
            "_model_module": "@jupyter-widgets/controls",
            "_model_module_version": "1.5.0",
            "_model_name": "FloatProgressModel",
            "_view_count": null,
            "_view_module": "@jupyter-widgets/controls",
            "_view_module_version": "1.5.0",
            "_view_name": "ProgressView",
            "bar_style": "success",
            "description": "",
            "description_tooltip": null,
            "layout": "IPY_MODEL_8a93c243f6b443afb1f982d85aa3920b",
            "max": 1428,
            "min": 0,
            "orientation": "horizontal",
            "style": "IPY_MODEL_f42cd3fad30044b8a602c02154bd167b",
            "value": 1428
          }
        },
        "29c2f0b229cc498296f999a8c55ff24b": {
          "model_module": "@jupyter-widgets/controls",
          "model_name": "HTMLModel",
          "model_module_version": "1.5.0",
          "state": {
            "_dom_classes": [],
            "_model_module": "@jupyter-widgets/controls",
            "_model_module_version": "1.5.0",
            "_model_name": "HTMLModel",
            "_view_count": null,
            "_view_module": "@jupyter-widgets/controls",
            "_view_module_version": "1.5.0",
            "_view_name": "HTMLView",
            "description": "",
            "description_tooltip": null,
            "layout": "IPY_MODEL_3d182faebc7f4ebea289ea44626d2b14",
            "placeholder": "​",
            "style": "IPY_MODEL_0249b31ebf1b4f49b5615dcd062eabfc",
            "value": " 1.43k/1.43k [00:00&lt;00:00, 96.2kB/s]"
          }
        },
        "3b90bcabcfb94adba103bd63500e7950": {
          "model_module": "@jupyter-widgets/base",
          "model_name": "LayoutModel",
          "model_module_version": "1.2.0",
          "state": {
            "_model_module": "@jupyter-widgets/base",
            "_model_module_version": "1.2.0",
            "_model_name": "LayoutModel",
            "_view_count": null,
            "_view_module": "@jupyter-widgets/base",
            "_view_module_version": "1.2.0",
            "_view_name": "LayoutView",
            "align_content": null,
            "align_items": null,
            "align_self": null,
            "border": null,
            "bottom": null,
            "display": null,
            "flex": null,
            "flex_flow": null,
            "grid_area": null,
            "grid_auto_columns": null,
            "grid_auto_flow": null,
            "grid_auto_rows": null,
            "grid_column": null,
            "grid_gap": null,
            "grid_row": null,
            "grid_template_areas": null,
            "grid_template_columns": null,
            "grid_template_rows": null,
            "height": null,
            "justify_content": null,
            "justify_items": null,
            "left": null,
            "margin": null,
            "max_height": null,
            "max_width": null,
            "min_height": null,
            "min_width": null,
            "object_fit": null,
            "object_position": null,
            "order": null,
            "overflow": null,
            "overflow_x": null,
            "overflow_y": null,
            "padding": null,
            "right": null,
            "top": null,
            "visibility": null,
            "width": null
          }
        },
        "da9d4b0b31204f899761688ac46dd7a8": {
          "model_module": "@jupyter-widgets/base",
          "model_name": "LayoutModel",
          "model_module_version": "1.2.0",
          "state": {
            "_model_module": "@jupyter-widgets/base",
            "_model_module_version": "1.2.0",
            "_model_name": "LayoutModel",
            "_view_count": null,
            "_view_module": "@jupyter-widgets/base",
            "_view_module_version": "1.2.0",
            "_view_name": "LayoutView",
            "align_content": null,
            "align_items": null,
            "align_self": null,
            "border": null,
            "bottom": null,
            "display": null,
            "flex": null,
            "flex_flow": null,
            "grid_area": null,
            "grid_auto_columns": null,
            "grid_auto_flow": null,
            "grid_auto_rows": null,
            "grid_column": null,
            "grid_gap": null,
            "grid_row": null,
            "grid_template_areas": null,
            "grid_template_columns": null,
            "grid_template_rows": null,
            "height": null,
            "justify_content": null,
            "justify_items": null,
            "left": null,
            "margin": null,
            "max_height": null,
            "max_width": null,
            "min_height": null,
            "min_width": null,
            "object_fit": null,
            "object_position": null,
            "order": null,
            "overflow": null,
            "overflow_x": null,
            "overflow_y": null,
            "padding": null,
            "right": null,
            "top": null,
            "visibility": null,
            "width": null
          }
        },
        "e1116678300f4e7986de27797bde8e65": {
          "model_module": "@jupyter-widgets/controls",
          "model_name": "DescriptionStyleModel",
          "model_module_version": "1.5.0",
          "state": {
            "_model_module": "@jupyter-widgets/controls",
            "_model_module_version": "1.5.0",
            "_model_name": "DescriptionStyleModel",
            "_view_count": null,
            "_view_module": "@jupyter-widgets/base",
            "_view_module_version": "1.2.0",
            "_view_name": "StyleView",
            "description_width": ""
          }
        },
        "8a93c243f6b443afb1f982d85aa3920b": {
          "model_module": "@jupyter-widgets/base",
          "model_name": "LayoutModel",
          "model_module_version": "1.2.0",
          "state": {
            "_model_module": "@jupyter-widgets/base",
            "_model_module_version": "1.2.0",
            "_model_name": "LayoutModel",
            "_view_count": null,
            "_view_module": "@jupyter-widgets/base",
            "_view_module_version": "1.2.0",
            "_view_name": "LayoutView",
            "align_content": null,
            "align_items": null,
            "align_self": null,
            "border": null,
            "bottom": null,
            "display": null,
            "flex": null,
            "flex_flow": null,
            "grid_area": null,
            "grid_auto_columns": null,
            "grid_auto_flow": null,
            "grid_auto_rows": null,
            "grid_column": null,
            "grid_gap": null,
            "grid_row": null,
            "grid_template_areas": null,
            "grid_template_columns": null,
            "grid_template_rows": null,
            "height": null,
            "justify_content": null,
            "justify_items": null,
            "left": null,
            "margin": null,
            "max_height": null,
            "max_width": null,
            "min_height": null,
            "min_width": null,
            "object_fit": null,
            "object_position": null,
            "order": null,
            "overflow": null,
            "overflow_x": null,
            "overflow_y": null,
            "padding": null,
            "right": null,
            "top": null,
            "visibility": null,
            "width": null
          }
        },
        "f42cd3fad30044b8a602c02154bd167b": {
          "model_module": "@jupyter-widgets/controls",
          "model_name": "ProgressStyleModel",
          "model_module_version": "1.5.0",
          "state": {
            "_model_module": "@jupyter-widgets/controls",
            "_model_module_version": "1.5.0",
            "_model_name": "ProgressStyleModel",
            "_view_count": null,
            "_view_module": "@jupyter-widgets/base",
            "_view_module_version": "1.2.0",
            "_view_name": "StyleView",
            "bar_color": null,
            "description_width": ""
          }
        },
        "3d182faebc7f4ebea289ea44626d2b14": {
          "model_module": "@jupyter-widgets/base",
          "model_name": "LayoutModel",
          "model_module_version": "1.2.0",
          "state": {
            "_model_module": "@jupyter-widgets/base",
            "_model_module_version": "1.2.0",
            "_model_name": "LayoutModel",
            "_view_count": null,
            "_view_module": "@jupyter-widgets/base",
            "_view_module_version": "1.2.0",
            "_view_name": "LayoutView",
            "align_content": null,
            "align_items": null,
            "align_self": null,
            "border": null,
            "bottom": null,
            "display": null,
            "flex": null,
            "flex_flow": null,
            "grid_area": null,
            "grid_auto_columns": null,
            "grid_auto_flow": null,
            "grid_auto_rows": null,
            "grid_column": null,
            "grid_gap": null,
            "grid_row": null,
            "grid_template_areas": null,
            "grid_template_columns": null,
            "grid_template_rows": null,
            "height": null,
            "justify_content": null,
            "justify_items": null,
            "left": null,
            "margin": null,
            "max_height": null,
            "max_width": null,
            "min_height": null,
            "min_width": null,
            "object_fit": null,
            "object_position": null,
            "order": null,
            "overflow": null,
            "overflow_x": null,
            "overflow_y": null,
            "padding": null,
            "right": null,
            "top": null,
            "visibility": null,
            "width": null
          }
        },
        "0249b31ebf1b4f49b5615dcd062eabfc": {
          "model_module": "@jupyter-widgets/controls",
          "model_name": "DescriptionStyleModel",
          "model_module_version": "1.5.0",
          "state": {
            "_model_module": "@jupyter-widgets/controls",
            "_model_module_version": "1.5.0",
            "_model_name": "DescriptionStyleModel",
            "_view_count": null,
            "_view_module": "@jupyter-widgets/base",
            "_view_module_version": "1.2.0",
            "_view_name": "StyleView",
            "description_width": ""
          }
        },
        "ec4ce12415024702be576acb17b1c869": {
          "model_module": "@jupyter-widgets/controls",
          "model_name": "HBoxModel",
          "model_module_version": "1.5.0",
          "state": {
            "_dom_classes": [],
            "_model_module": "@jupyter-widgets/controls",
            "_model_module_version": "1.5.0",
            "_model_name": "HBoxModel",
            "_view_count": null,
            "_view_module": "@jupyter-widgets/controls",
            "_view_module_version": "1.5.0",
            "_view_name": "HBoxView",
            "box_style": "",
            "children": [
              "IPY_MODEL_1e985f90131340388d94a379d000b4d7",
              "IPY_MODEL_c799c74ea1194913ac4c5b576eda61e8",
              "IPY_MODEL_f21a50dd7bda4ba2b251127c940d3284"
            ],
            "layout": "IPY_MODEL_4d56170dc4954f98a8cc343410d5ec64"
          }
        },
        "1e985f90131340388d94a379d000b4d7": {
          "model_module": "@jupyter-widgets/controls",
          "model_name": "HTMLModel",
          "model_module_version": "1.5.0",
          "state": {
            "_dom_classes": [],
            "_model_module": "@jupyter-widgets/controls",
            "_model_module_version": "1.5.0",
            "_model_name": "HTMLModel",
            "_view_count": null,
            "_view_module": "@jupyter-widgets/controls",
            "_view_module_version": "1.5.0",
            "_view_name": "HTMLView",
            "description": "",
            "description_tooltip": null,
            "layout": "IPY_MODEL_a58c6b54aee74b3ba38d6c6cd4f468b2",
            "placeholder": "​",
            "style": "IPY_MODEL_266d6af1a9e94b73924a4e568c91a3ab",
            "value": "pytorch_model.bin: 100%"
          }
        },
        "c799c74ea1194913ac4c5b576eda61e8": {
          "model_module": "@jupyter-widgets/controls",
          "model_name": "FloatProgressModel",
          "model_module_version": "1.5.0",
          "state": {
            "_dom_classes": [],
            "_model_module": "@jupyter-widgets/controls",
            "_model_module_version": "1.5.0",
            "_model_name": "FloatProgressModel",
            "_view_count": null,
            "_view_module": "@jupyter-widgets/controls",
            "_view_module_version": "1.5.0",
            "_view_name": "ProgressView",
            "bar_style": "success",
            "description": "",
            "description_tooltip": null,
            "layout": "IPY_MODEL_823a17748234410182a3f15987fe3e19",
            "max": 2444714899,
            "min": 0,
            "orientation": "horizontal",
            "style": "IPY_MODEL_ea7d984ab1564749bce1c724fb9ceef3",
            "value": 2444714899
          }
        },
        "f21a50dd7bda4ba2b251127c940d3284": {
          "model_module": "@jupyter-widgets/controls",
          "model_name": "HTMLModel",
          "model_module_version": "1.5.0",
          "state": {
            "_dom_classes": [],
            "_model_module": "@jupyter-widgets/controls",
            "_model_module_version": "1.5.0",
            "_model_name": "HTMLModel",
            "_view_count": null,
            "_view_module": "@jupyter-widgets/controls",
            "_view_module_version": "1.5.0",
            "_view_name": "HTMLView",
            "description": "",
            "description_tooltip": null,
            "layout": "IPY_MODEL_48c9e169f26b44788a1ddb5a2dcfd256",
            "placeholder": "​",
            "style": "IPY_MODEL_dc55ed3132f94ce59ca7ea3daad7aaec",
            "value": " 2.44G/2.44G [00:20&lt;00:00, 206MB/s]"
          }
        },
        "4d56170dc4954f98a8cc343410d5ec64": {
          "model_module": "@jupyter-widgets/base",
          "model_name": "LayoutModel",
          "model_module_version": "1.2.0",
          "state": {
            "_model_module": "@jupyter-widgets/base",
            "_model_module_version": "1.2.0",
            "_model_name": "LayoutModel",
            "_view_count": null,
            "_view_module": "@jupyter-widgets/base",
            "_view_module_version": "1.2.0",
            "_view_name": "LayoutView",
            "align_content": null,
            "align_items": null,
            "align_self": null,
            "border": null,
            "bottom": null,
            "display": null,
            "flex": null,
            "flex_flow": null,
            "grid_area": null,
            "grid_auto_columns": null,
            "grid_auto_flow": null,
            "grid_auto_rows": null,
            "grid_column": null,
            "grid_gap": null,
            "grid_row": null,
            "grid_template_areas": null,
            "grid_template_columns": null,
            "grid_template_rows": null,
            "height": null,
            "justify_content": null,
            "justify_items": null,
            "left": null,
            "margin": null,
            "max_height": null,
            "max_width": null,
            "min_height": null,
            "min_width": null,
            "object_fit": null,
            "object_position": null,
            "order": null,
            "overflow": null,
            "overflow_x": null,
            "overflow_y": null,
            "padding": null,
            "right": null,
            "top": null,
            "visibility": null,
            "width": null
          }
        },
        "a58c6b54aee74b3ba38d6c6cd4f468b2": {
          "model_module": "@jupyter-widgets/base",
          "model_name": "LayoutModel",
          "model_module_version": "1.2.0",
          "state": {
            "_model_module": "@jupyter-widgets/base",
            "_model_module_version": "1.2.0",
            "_model_name": "LayoutModel",
            "_view_count": null,
            "_view_module": "@jupyter-widgets/base",
            "_view_module_version": "1.2.0",
            "_view_name": "LayoutView",
            "align_content": null,
            "align_items": null,
            "align_self": null,
            "border": null,
            "bottom": null,
            "display": null,
            "flex": null,
            "flex_flow": null,
            "grid_area": null,
            "grid_auto_columns": null,
            "grid_auto_flow": null,
            "grid_auto_rows": null,
            "grid_column": null,
            "grid_gap": null,
            "grid_row": null,
            "grid_template_areas": null,
            "grid_template_columns": null,
            "grid_template_rows": null,
            "height": null,
            "justify_content": null,
            "justify_items": null,
            "left": null,
            "margin": null,
            "max_height": null,
            "max_width": null,
            "min_height": null,
            "min_width": null,
            "object_fit": null,
            "object_position": null,
            "order": null,
            "overflow": null,
            "overflow_x": null,
            "overflow_y": null,
            "padding": null,
            "right": null,
            "top": null,
            "visibility": null,
            "width": null
          }
        },
        "266d6af1a9e94b73924a4e568c91a3ab": {
          "model_module": "@jupyter-widgets/controls",
          "model_name": "DescriptionStyleModel",
          "model_module_version": "1.5.0",
          "state": {
            "_model_module": "@jupyter-widgets/controls",
            "_model_module_version": "1.5.0",
            "_model_name": "DescriptionStyleModel",
            "_view_count": null,
            "_view_module": "@jupyter-widgets/base",
            "_view_module_version": "1.2.0",
            "_view_name": "StyleView",
            "description_width": ""
          }
        },
        "823a17748234410182a3f15987fe3e19": {
          "model_module": "@jupyter-widgets/base",
          "model_name": "LayoutModel",
          "model_module_version": "1.2.0",
          "state": {
            "_model_module": "@jupyter-widgets/base",
            "_model_module_version": "1.2.0",
            "_model_name": "LayoutModel",
            "_view_count": null,
            "_view_module": "@jupyter-widgets/base",
            "_view_module_version": "1.2.0",
            "_view_name": "LayoutView",
            "align_content": null,
            "align_items": null,
            "align_self": null,
            "border": null,
            "bottom": null,
            "display": null,
            "flex": null,
            "flex_flow": null,
            "grid_area": null,
            "grid_auto_columns": null,
            "grid_auto_flow": null,
            "grid_auto_rows": null,
            "grid_column": null,
            "grid_gap": null,
            "grid_row": null,
            "grid_template_areas": null,
            "grid_template_columns": null,
            "grid_template_rows": null,
            "height": null,
            "justify_content": null,
            "justify_items": null,
            "left": null,
            "margin": null,
            "max_height": null,
            "max_width": null,
            "min_height": null,
            "min_width": null,
            "object_fit": null,
            "object_position": null,
            "order": null,
            "overflow": null,
            "overflow_x": null,
            "overflow_y": null,
            "padding": null,
            "right": null,
            "top": null,
            "visibility": null,
            "width": null
          }
        },
        "ea7d984ab1564749bce1c724fb9ceef3": {
          "model_module": "@jupyter-widgets/controls",
          "model_name": "ProgressStyleModel",
          "model_module_version": "1.5.0",
          "state": {
            "_model_module": "@jupyter-widgets/controls",
            "_model_module_version": "1.5.0",
            "_model_name": "ProgressStyleModel",
            "_view_count": null,
            "_view_module": "@jupyter-widgets/base",
            "_view_module_version": "1.2.0",
            "_view_name": "StyleView",
            "bar_color": null,
            "description_width": ""
          }
        },
        "48c9e169f26b44788a1ddb5a2dcfd256": {
          "model_module": "@jupyter-widgets/base",
          "model_name": "LayoutModel",
          "model_module_version": "1.2.0",
          "state": {
            "_model_module": "@jupyter-widgets/base",
            "_model_module_version": "1.2.0",
            "_model_name": "LayoutModel",
            "_view_count": null,
            "_view_module": "@jupyter-widgets/base",
            "_view_module_version": "1.2.0",
            "_view_name": "LayoutView",
            "align_content": null,
            "align_items": null,
            "align_self": null,
            "border": null,
            "bottom": null,
            "display": null,
            "flex": null,
            "flex_flow": null,
            "grid_area": null,
            "grid_auto_columns": null,
            "grid_auto_flow": null,
            "grid_auto_rows": null,
            "grid_column": null,
            "grid_gap": null,
            "grid_row": null,
            "grid_template_areas": null,
            "grid_template_columns": null,
            "grid_template_rows": null,
            "height": null,
            "justify_content": null,
            "justify_items": null,
            "left": null,
            "margin": null,
            "max_height": null,
            "max_width": null,
            "min_height": null,
            "min_width": null,
            "object_fit": null,
            "object_position": null,
            "order": null,
            "overflow": null,
            "overflow_x": null,
            "overflow_y": null,
            "padding": null,
            "right": null,
            "top": null,
            "visibility": null,
            "width": null
          }
        },
        "dc55ed3132f94ce59ca7ea3daad7aaec": {
          "model_module": "@jupyter-widgets/controls",
          "model_name": "DescriptionStyleModel",
          "model_module_version": "1.5.0",
          "state": {
            "_model_module": "@jupyter-widgets/controls",
            "_model_module_version": "1.5.0",
            "_model_name": "DescriptionStyleModel",
            "_view_count": null,
            "_view_module": "@jupyter-widgets/base",
            "_view_module_version": "1.2.0",
            "_view_name": "StyleView",
            "description_width": ""
          }
        },
        "0b0dcc298b5942cba17607ada5adce0d": {
          "model_module": "@jupyter-widgets/controls",
          "model_name": "HBoxModel",
          "model_module_version": "1.5.0",
          "state": {
            "_dom_classes": [],
            "_model_module": "@jupyter-widgets/controls",
            "_model_module_version": "1.5.0",
            "_model_name": "HBoxModel",
            "_view_count": null,
            "_view_module": "@jupyter-widgets/controls",
            "_view_module_version": "1.5.0",
            "_view_name": "HBoxView",
            "box_style": "",
            "children": [
              "IPY_MODEL_024321b4c8164768b4419cada1b5a968",
              "IPY_MODEL_492788a33dbd423888bece2ec6108c24",
              "IPY_MODEL_9297e4d3b0d249e88628c860a16e27ff"
            ],
            "layout": "IPY_MODEL_ce8ac977e390421980b21144ffc3d3d9"
          }
        },
        "024321b4c8164768b4419cada1b5a968": {
          "model_module": "@jupyter-widgets/controls",
          "model_name": "HTMLModel",
          "model_module_version": "1.5.0",
          "state": {
            "_dom_classes": [],
            "_model_module": "@jupyter-widgets/controls",
            "_model_module_version": "1.5.0",
            "_model_name": "HTMLModel",
            "_view_count": null,
            "_view_module": "@jupyter-widgets/controls",
            "_view_module_version": "1.5.0",
            "_view_name": "HTMLView",
            "description": "",
            "description_tooltip": null,
            "layout": "IPY_MODEL_130ec4bfc9e949d7b91290360e51f23d",
            "placeholder": "​",
            "style": "IPY_MODEL_60357ef27ec64626a66ec033103a3014",
            "value": "generation_config.json: 100%"
          }
        },
        "492788a33dbd423888bece2ec6108c24": {
          "model_module": "@jupyter-widgets/controls",
          "model_name": "FloatProgressModel",
          "model_module_version": "1.5.0",
          "state": {
            "_dom_classes": [],
            "_model_module": "@jupyter-widgets/controls",
            "_model_module_version": "1.5.0",
            "_model_name": "FloatProgressModel",
            "_view_count": null,
            "_view_module": "@jupyter-widgets/controls",
            "_view_module_version": "1.5.0",
            "_view_name": "ProgressView",
            "bar_style": "success",
            "description": "",
            "description_tooltip": null,
            "layout": "IPY_MODEL_afbe705f408c47c6aa6d321d7416fd0b",
            "max": 261,
            "min": 0,
            "orientation": "horizontal",
            "style": "IPY_MODEL_61248a94474b4ac49289a9865c900a06",
            "value": 261
          }
        },
        "9297e4d3b0d249e88628c860a16e27ff": {
          "model_module": "@jupyter-widgets/controls",
          "model_name": "HTMLModel",
          "model_module_version": "1.5.0",
          "state": {
            "_dom_classes": [],
            "_model_module": "@jupyter-widgets/controls",
            "_model_module_version": "1.5.0",
            "_model_name": "HTMLModel",
            "_view_count": null,
            "_view_module": "@jupyter-widgets/controls",
            "_view_module_version": "1.5.0",
            "_view_name": "HTMLView",
            "description": "",
            "description_tooltip": null,
            "layout": "IPY_MODEL_61f7b936a4ca4063a742be01b657f985",
            "placeholder": "​",
            "style": "IPY_MODEL_2bd67c5e60dd43248a7732ac248f70fb",
            "value": " 261/261 [00:00&lt;00:00, 15.4kB/s]"
          }
        },
        "ce8ac977e390421980b21144ffc3d3d9": {
          "model_module": "@jupyter-widgets/base",
          "model_name": "LayoutModel",
          "model_module_version": "1.2.0",
          "state": {
            "_model_module": "@jupyter-widgets/base",
            "_model_module_version": "1.2.0",
            "_model_name": "LayoutModel",
            "_view_count": null,
            "_view_module": "@jupyter-widgets/base",
            "_view_module_version": "1.2.0",
            "_view_name": "LayoutView",
            "align_content": null,
            "align_items": null,
            "align_self": null,
            "border": null,
            "bottom": null,
            "display": null,
            "flex": null,
            "flex_flow": null,
            "grid_area": null,
            "grid_auto_columns": null,
            "grid_auto_flow": null,
            "grid_auto_rows": null,
            "grid_column": null,
            "grid_gap": null,
            "grid_row": null,
            "grid_template_areas": null,
            "grid_template_columns": null,
            "grid_template_rows": null,
            "height": null,
            "justify_content": null,
            "justify_items": null,
            "left": null,
            "margin": null,
            "max_height": null,
            "max_width": null,
            "min_height": null,
            "min_width": null,
            "object_fit": null,
            "object_position": null,
            "order": null,
            "overflow": null,
            "overflow_x": null,
            "overflow_y": null,
            "padding": null,
            "right": null,
            "top": null,
            "visibility": null,
            "width": null
          }
        },
        "130ec4bfc9e949d7b91290360e51f23d": {
          "model_module": "@jupyter-widgets/base",
          "model_name": "LayoutModel",
          "model_module_version": "1.2.0",
          "state": {
            "_model_module": "@jupyter-widgets/base",
            "_model_module_version": "1.2.0",
            "_model_name": "LayoutModel",
            "_view_count": null,
            "_view_module": "@jupyter-widgets/base",
            "_view_module_version": "1.2.0",
            "_view_name": "LayoutView",
            "align_content": null,
            "align_items": null,
            "align_self": null,
            "border": null,
            "bottom": null,
            "display": null,
            "flex": null,
            "flex_flow": null,
            "grid_area": null,
            "grid_auto_columns": null,
            "grid_auto_flow": null,
            "grid_auto_rows": null,
            "grid_column": null,
            "grid_gap": null,
            "grid_row": null,
            "grid_template_areas": null,
            "grid_template_columns": null,
            "grid_template_rows": null,
            "height": null,
            "justify_content": null,
            "justify_items": null,
            "left": null,
            "margin": null,
            "max_height": null,
            "max_width": null,
            "min_height": null,
            "min_width": null,
            "object_fit": null,
            "object_position": null,
            "order": null,
            "overflow": null,
            "overflow_x": null,
            "overflow_y": null,
            "padding": null,
            "right": null,
            "top": null,
            "visibility": null,
            "width": null
          }
        },
        "60357ef27ec64626a66ec033103a3014": {
          "model_module": "@jupyter-widgets/controls",
          "model_name": "DescriptionStyleModel",
          "model_module_version": "1.5.0",
          "state": {
            "_model_module": "@jupyter-widgets/controls",
            "_model_module_version": "1.5.0",
            "_model_name": "DescriptionStyleModel",
            "_view_count": null,
            "_view_module": "@jupyter-widgets/base",
            "_view_module_version": "1.2.0",
            "_view_name": "StyleView",
            "description_width": ""
          }
        },
        "afbe705f408c47c6aa6d321d7416fd0b": {
          "model_module": "@jupyter-widgets/base",
          "model_name": "LayoutModel",
          "model_module_version": "1.2.0",
          "state": {
            "_model_module": "@jupyter-widgets/base",
            "_model_module_version": "1.2.0",
            "_model_name": "LayoutModel",
            "_view_count": null,
            "_view_module": "@jupyter-widgets/base",
            "_view_module_version": "1.2.0",
            "_view_name": "LayoutView",
            "align_content": null,
            "align_items": null,
            "align_self": null,
            "border": null,
            "bottom": null,
            "display": null,
            "flex": null,
            "flex_flow": null,
            "grid_area": null,
            "grid_auto_columns": null,
            "grid_auto_flow": null,
            "grid_auto_rows": null,
            "grid_column": null,
            "grid_gap": null,
            "grid_row": null,
            "grid_template_areas": null,
            "grid_template_columns": null,
            "grid_template_rows": null,
            "height": null,
            "justify_content": null,
            "justify_items": null,
            "left": null,
            "margin": null,
            "max_height": null,
            "max_width": null,
            "min_height": null,
            "min_width": null,
            "object_fit": null,
            "object_position": null,
            "order": null,
            "overflow": null,
            "overflow_x": null,
            "overflow_y": null,
            "padding": null,
            "right": null,
            "top": null,
            "visibility": null,
            "width": null
          }
        },
        "61248a94474b4ac49289a9865c900a06": {
          "model_module": "@jupyter-widgets/controls",
          "model_name": "ProgressStyleModel",
          "model_module_version": "1.5.0",
          "state": {
            "_model_module": "@jupyter-widgets/controls",
            "_model_module_version": "1.5.0",
            "_model_name": "ProgressStyleModel",
            "_view_count": null,
            "_view_module": "@jupyter-widgets/base",
            "_view_module_version": "1.2.0",
            "_view_name": "StyleView",
            "bar_color": null,
            "description_width": ""
          }
        },
        "61f7b936a4ca4063a742be01b657f985": {
          "model_module": "@jupyter-widgets/base",
          "model_name": "LayoutModel",
          "model_module_version": "1.2.0",
          "state": {
            "_model_module": "@jupyter-widgets/base",
            "_model_module_version": "1.2.0",
            "_model_name": "LayoutModel",
            "_view_count": null,
            "_view_module": "@jupyter-widgets/base",
            "_view_module_version": "1.2.0",
            "_view_name": "LayoutView",
            "align_content": null,
            "align_items": null,
            "align_self": null,
            "border": null,
            "bottom": null,
            "display": null,
            "flex": null,
            "flex_flow": null,
            "grid_area": null,
            "grid_auto_columns": null,
            "grid_auto_flow": null,
            "grid_auto_rows": null,
            "grid_column": null,
            "grid_gap": null,
            "grid_row": null,
            "grid_template_areas": null,
            "grid_template_columns": null,
            "grid_template_rows": null,
            "height": null,
            "justify_content": null,
            "justify_items": null,
            "left": null,
            "margin": null,
            "max_height": null,
            "max_width": null,
            "min_height": null,
            "min_width": null,
            "object_fit": null,
            "object_position": null,
            "order": null,
            "overflow": null,
            "overflow_x": null,
            "overflow_y": null,
            "padding": null,
            "right": null,
            "top": null,
            "visibility": null,
            "width": null
          }
        },
        "2bd67c5e60dd43248a7732ac248f70fb": {
          "model_module": "@jupyter-widgets/controls",
          "model_name": "DescriptionStyleModel",
          "model_module_version": "1.5.0",
          "state": {
            "_model_module": "@jupyter-widgets/controls",
            "_model_module_version": "1.5.0",
            "_model_name": "DescriptionStyleModel",
            "_view_count": null,
            "_view_module": "@jupyter-widgets/base",
            "_view_module_version": "1.2.0",
            "_view_name": "StyleView",
            "description_width": ""
          }
        },
        "da2bb71a212f44758c565500ee7e2a80": {
          "model_module": "@jupyter-widgets/controls",
          "model_name": "HBoxModel",
          "model_module_version": "1.5.0",
          "state": {
            "_dom_classes": [],
            "_model_module": "@jupyter-widgets/controls",
            "_model_module_version": "1.5.0",
            "_model_name": "HBoxModel",
            "_view_count": null,
            "_view_module": "@jupyter-widgets/controls",
            "_view_module_version": "1.5.0",
            "_view_name": "HBoxView",
            "box_style": "",
            "children": [
              "IPY_MODEL_dfa491f88d8a4e2f8bbb823963cb0984",
              "IPY_MODEL_0ae1e9563f8e484999890102c4689935",
              "IPY_MODEL_f85c7e612b28449e8e6dc9e0404e5793"
            ],
            "layout": "IPY_MODEL_6e51a09b70124e77878dee824c2abc07"
          }
        },
        "dfa491f88d8a4e2f8bbb823963cb0984": {
          "model_module": "@jupyter-widgets/controls",
          "model_name": "HTMLModel",
          "model_module_version": "1.5.0",
          "state": {
            "_dom_classes": [],
            "_model_module": "@jupyter-widgets/controls",
            "_model_module_version": "1.5.0",
            "_model_name": "HTMLModel",
            "_view_count": null,
            "_view_module": "@jupyter-widgets/controls",
            "_view_module_version": "1.5.0",
            "_view_name": "HTMLView",
            "description": "",
            "description_tooltip": null,
            "layout": "IPY_MODEL_240026982a454a598ff41dd41d863ea7",
            "placeholder": "​",
            "style": "IPY_MODEL_3bf4522631404c50a1b92c71b8ae3c51",
            "value": "tokenizer_config.json: 100%"
          }
        },
        "0ae1e9563f8e484999890102c4689935": {
          "model_module": "@jupyter-widgets/controls",
          "model_name": "FloatProgressModel",
          "model_module_version": "1.5.0",
          "state": {
            "_dom_classes": [],
            "_model_module": "@jupyter-widgets/controls",
            "_model_module_version": "1.5.0",
            "_model_name": "FloatProgressModel",
            "_view_count": null,
            "_view_module": "@jupyter-widgets/controls",
            "_view_module_version": "1.5.0",
            "_view_name": "ProgressView",
            "bar_style": "success",
            "description": "",
            "description_tooltip": null,
            "layout": "IPY_MODEL_ab385d6f865744f1943e60629e43753d",
            "max": 528,
            "min": 0,
            "orientation": "horizontal",
            "style": "IPY_MODEL_754ef1168bc64d0f923560ba76f10a79",
            "value": 528
          }
        },
        "f85c7e612b28449e8e6dc9e0404e5793": {
          "model_module": "@jupyter-widgets/controls",
          "model_name": "HTMLModel",
          "model_module_version": "1.5.0",
          "state": {
            "_dom_classes": [],
            "_model_module": "@jupyter-widgets/controls",
            "_model_module_version": "1.5.0",
            "_model_name": "HTMLModel",
            "_view_count": null,
            "_view_module": "@jupyter-widgets/controls",
            "_view_module_version": "1.5.0",
            "_view_name": "HTMLView",
            "description": "",
            "description_tooltip": null,
            "layout": "IPY_MODEL_afcfa2737ce64fd295c9548b834a2305",
            "placeholder": "​",
            "style": "IPY_MODEL_1f50160888174793a85d4c1198539781",
            "value": " 528/528 [00:00&lt;00:00, 37.9kB/s]"
          }
        },
        "6e51a09b70124e77878dee824c2abc07": {
          "model_module": "@jupyter-widgets/base",
          "model_name": "LayoutModel",
          "model_module_version": "1.2.0",
          "state": {
            "_model_module": "@jupyter-widgets/base",
            "_model_module_version": "1.2.0",
            "_model_name": "LayoutModel",
            "_view_count": null,
            "_view_module": "@jupyter-widgets/base",
            "_view_module_version": "1.2.0",
            "_view_name": "LayoutView",
            "align_content": null,
            "align_items": null,
            "align_self": null,
            "border": null,
            "bottom": null,
            "display": null,
            "flex": null,
            "flex_flow": null,
            "grid_area": null,
            "grid_auto_columns": null,
            "grid_auto_flow": null,
            "grid_auto_rows": null,
            "grid_column": null,
            "grid_gap": null,
            "grid_row": null,
            "grid_template_areas": null,
            "grid_template_columns": null,
            "grid_template_rows": null,
            "height": null,
            "justify_content": null,
            "justify_items": null,
            "left": null,
            "margin": null,
            "max_height": null,
            "max_width": null,
            "min_height": null,
            "min_width": null,
            "object_fit": null,
            "object_position": null,
            "order": null,
            "overflow": null,
            "overflow_x": null,
            "overflow_y": null,
            "padding": null,
            "right": null,
            "top": null,
            "visibility": null,
            "width": null
          }
        },
        "240026982a454a598ff41dd41d863ea7": {
          "model_module": "@jupyter-widgets/base",
          "model_name": "LayoutModel",
          "model_module_version": "1.2.0",
          "state": {
            "_model_module": "@jupyter-widgets/base",
            "_model_module_version": "1.2.0",
            "_model_name": "LayoutModel",
            "_view_count": null,
            "_view_module": "@jupyter-widgets/base",
            "_view_module_version": "1.2.0",
            "_view_name": "LayoutView",
            "align_content": null,
            "align_items": null,
            "align_self": null,
            "border": null,
            "bottom": null,
            "display": null,
            "flex": null,
            "flex_flow": null,
            "grid_area": null,
            "grid_auto_columns": null,
            "grid_auto_flow": null,
            "grid_auto_rows": null,
            "grid_column": null,
            "grid_gap": null,
            "grid_row": null,
            "grid_template_areas": null,
            "grid_template_columns": null,
            "grid_template_rows": null,
            "height": null,
            "justify_content": null,
            "justify_items": null,
            "left": null,
            "margin": null,
            "max_height": null,
            "max_width": null,
            "min_height": null,
            "min_width": null,
            "object_fit": null,
            "object_position": null,
            "order": null,
            "overflow": null,
            "overflow_x": null,
            "overflow_y": null,
            "padding": null,
            "right": null,
            "top": null,
            "visibility": null,
            "width": null
          }
        },
        "3bf4522631404c50a1b92c71b8ae3c51": {
          "model_module": "@jupyter-widgets/controls",
          "model_name": "DescriptionStyleModel",
          "model_module_version": "1.5.0",
          "state": {
            "_model_module": "@jupyter-widgets/controls",
            "_model_module_version": "1.5.0",
            "_model_name": "DescriptionStyleModel",
            "_view_count": null,
            "_view_module": "@jupyter-widgets/base",
            "_view_module_version": "1.2.0",
            "_view_name": "StyleView",
            "description_width": ""
          }
        },
        "ab385d6f865744f1943e60629e43753d": {
          "model_module": "@jupyter-widgets/base",
          "model_name": "LayoutModel",
          "model_module_version": "1.2.0",
          "state": {
            "_model_module": "@jupyter-widgets/base",
            "_model_module_version": "1.2.0",
            "_model_name": "LayoutModel",
            "_view_count": null,
            "_view_module": "@jupyter-widgets/base",
            "_view_module_version": "1.2.0",
            "_view_name": "LayoutView",
            "align_content": null,
            "align_items": null,
            "align_self": null,
            "border": null,
            "bottom": null,
            "display": null,
            "flex": null,
            "flex_flow": null,
            "grid_area": null,
            "grid_auto_columns": null,
            "grid_auto_flow": null,
            "grid_auto_rows": null,
            "grid_column": null,
            "grid_gap": null,
            "grid_row": null,
            "grid_template_areas": null,
            "grid_template_columns": null,
            "grid_template_rows": null,
            "height": null,
            "justify_content": null,
            "justify_items": null,
            "left": null,
            "margin": null,
            "max_height": null,
            "max_width": null,
            "min_height": null,
            "min_width": null,
            "object_fit": null,
            "object_position": null,
            "order": null,
            "overflow": null,
            "overflow_x": null,
            "overflow_y": null,
            "padding": null,
            "right": null,
            "top": null,
            "visibility": null,
            "width": null
          }
        },
        "754ef1168bc64d0f923560ba76f10a79": {
          "model_module": "@jupyter-widgets/controls",
          "model_name": "ProgressStyleModel",
          "model_module_version": "1.5.0",
          "state": {
            "_model_module": "@jupyter-widgets/controls",
            "_model_module_version": "1.5.0",
            "_model_name": "ProgressStyleModel",
            "_view_count": null,
            "_view_module": "@jupyter-widgets/base",
            "_view_module_version": "1.2.0",
            "_view_name": "StyleView",
            "bar_color": null,
            "description_width": ""
          }
        },
        "afcfa2737ce64fd295c9548b834a2305": {
          "model_module": "@jupyter-widgets/base",
          "model_name": "LayoutModel",
          "model_module_version": "1.2.0",
          "state": {
            "_model_module": "@jupyter-widgets/base",
            "_model_module_version": "1.2.0",
            "_model_name": "LayoutModel",
            "_view_count": null,
            "_view_module": "@jupyter-widgets/base",
            "_view_module_version": "1.2.0",
            "_view_name": "LayoutView",
            "align_content": null,
            "align_items": null,
            "align_self": null,
            "border": null,
            "bottom": null,
            "display": null,
            "flex": null,
            "flex_flow": null,
            "grid_area": null,
            "grid_auto_columns": null,
            "grid_auto_flow": null,
            "grid_auto_rows": null,
            "grid_column": null,
            "grid_gap": null,
            "grid_row": null,
            "grid_template_areas": null,
            "grid_template_columns": null,
            "grid_template_rows": null,
            "height": null,
            "justify_content": null,
            "justify_items": null,
            "left": null,
            "margin": null,
            "max_height": null,
            "max_width": null,
            "min_height": null,
            "min_width": null,
            "object_fit": null,
            "object_position": null,
            "order": null,
            "overflow": null,
            "overflow_x": null,
            "overflow_y": null,
            "padding": null,
            "right": null,
            "top": null,
            "visibility": null,
            "width": null
          }
        },
        "1f50160888174793a85d4c1198539781": {
          "model_module": "@jupyter-widgets/controls",
          "model_name": "DescriptionStyleModel",
          "model_module_version": "1.5.0",
          "state": {
            "_model_module": "@jupyter-widgets/controls",
            "_model_module_version": "1.5.0",
            "_model_name": "DescriptionStyleModel",
            "_view_count": null,
            "_view_module": "@jupyter-widgets/base",
            "_view_module_version": "1.2.0",
            "_view_name": "StyleView",
            "description_width": ""
          }
        },
        "ced2f65e6fa34dfab338df43696dbd8a": {
          "model_module": "@jupyter-widgets/controls",
          "model_name": "HBoxModel",
          "model_module_version": "1.5.0",
          "state": {
            "_dom_classes": [],
            "_model_module": "@jupyter-widgets/controls",
            "_model_module_version": "1.5.0",
            "_model_name": "HBoxModel",
            "_view_count": null,
            "_view_module": "@jupyter-widgets/controls",
            "_view_module_version": "1.5.0",
            "_view_name": "HBoxView",
            "box_style": "",
            "children": [
              "IPY_MODEL_4c3321109218404784f410da005f07fd",
              "IPY_MODEL_e9732f4c717f4fdfbd8fb1128ff10e70",
              "IPY_MODEL_7dcd20eddefc49fabbdf8d51b1b688cd"
            ],
            "layout": "IPY_MODEL_7492d3e92db841dfa3f13c804acc367d"
          }
        },
        "4c3321109218404784f410da005f07fd": {
          "model_module": "@jupyter-widgets/controls",
          "model_name": "HTMLModel",
          "model_module_version": "1.5.0",
          "state": {
            "_dom_classes": [],
            "_model_module": "@jupyter-widgets/controls",
            "_model_module_version": "1.5.0",
            "_model_name": "HTMLModel",
            "_view_count": null,
            "_view_module": "@jupyter-widgets/controls",
            "_view_module_version": "1.5.0",
            "_view_name": "HTMLView",
            "description": "",
            "description_tooltip": null,
            "layout": "IPY_MODEL_23838841ee864851a415f1b5073d5594",
            "placeholder": "​",
            "style": "IPY_MODEL_6032d979c5f04bb686543162e95426b1",
            "value": "sentencepiece.bpe.model: 100%"
          }
        },
        "e9732f4c717f4fdfbd8fb1128ff10e70": {
          "model_module": "@jupyter-widgets/controls",
          "model_name": "FloatProgressModel",
          "model_module_version": "1.5.0",
          "state": {
            "_dom_classes": [],
            "_model_module": "@jupyter-widgets/controls",
            "_model_module_version": "1.5.0",
            "_model_name": "FloatProgressModel",
            "_view_count": null,
            "_view_module": "@jupyter-widgets/controls",
            "_view_module_version": "1.5.0",
            "_view_name": "ProgressView",
            "bar_style": "success",
            "description": "",
            "description_tooltip": null,
            "layout": "IPY_MODEL_dc61e51bb5004badb893d7a4b6e9b0ca",
            "max": 5069051,
            "min": 0,
            "orientation": "horizontal",
            "style": "IPY_MODEL_8c8217fa7a074a8a88224eec1fa8a00c",
            "value": 5069051
          }
        },
        "7dcd20eddefc49fabbdf8d51b1b688cd": {
          "model_module": "@jupyter-widgets/controls",
          "model_name": "HTMLModel",
          "model_module_version": "1.5.0",
          "state": {
            "_dom_classes": [],
            "_model_module": "@jupyter-widgets/controls",
            "_model_module_version": "1.5.0",
            "_model_name": "HTMLModel",
            "_view_count": null,
            "_view_module": "@jupyter-widgets/controls",
            "_view_module_version": "1.5.0",
            "_view_name": "HTMLView",
            "description": "",
            "description_tooltip": null,
            "layout": "IPY_MODEL_5569be9a60c84c8eab6cb49f5049f4d5",
            "placeholder": "​",
            "style": "IPY_MODEL_72c649d3bd0e428e922bf9008ae2ad1a",
            "value": " 5.07M/5.07M [00:00&lt;00:00, 126MB/s]"
          }
        },
        "7492d3e92db841dfa3f13c804acc367d": {
          "model_module": "@jupyter-widgets/base",
          "model_name": "LayoutModel",
          "model_module_version": "1.2.0",
          "state": {
            "_model_module": "@jupyter-widgets/base",
            "_model_module_version": "1.2.0",
            "_model_name": "LayoutModel",
            "_view_count": null,
            "_view_module": "@jupyter-widgets/base",
            "_view_module_version": "1.2.0",
            "_view_name": "LayoutView",
            "align_content": null,
            "align_items": null,
            "align_self": null,
            "border": null,
            "bottom": null,
            "display": null,
            "flex": null,
            "flex_flow": null,
            "grid_area": null,
            "grid_auto_columns": null,
            "grid_auto_flow": null,
            "grid_auto_rows": null,
            "grid_column": null,
            "grid_gap": null,
            "grid_row": null,
            "grid_template_areas": null,
            "grid_template_columns": null,
            "grid_template_rows": null,
            "height": null,
            "justify_content": null,
            "justify_items": null,
            "left": null,
            "margin": null,
            "max_height": null,
            "max_width": null,
            "min_height": null,
            "min_width": null,
            "object_fit": null,
            "object_position": null,
            "order": null,
            "overflow": null,
            "overflow_x": null,
            "overflow_y": null,
            "padding": null,
            "right": null,
            "top": null,
            "visibility": null,
            "width": null
          }
        },
        "23838841ee864851a415f1b5073d5594": {
          "model_module": "@jupyter-widgets/base",
          "model_name": "LayoutModel",
          "model_module_version": "1.2.0",
          "state": {
            "_model_module": "@jupyter-widgets/base",
            "_model_module_version": "1.2.0",
            "_model_name": "LayoutModel",
            "_view_count": null,
            "_view_module": "@jupyter-widgets/base",
            "_view_module_version": "1.2.0",
            "_view_name": "LayoutView",
            "align_content": null,
            "align_items": null,
            "align_self": null,
            "border": null,
            "bottom": null,
            "display": null,
            "flex": null,
            "flex_flow": null,
            "grid_area": null,
            "grid_auto_columns": null,
            "grid_auto_flow": null,
            "grid_auto_rows": null,
            "grid_column": null,
            "grid_gap": null,
            "grid_row": null,
            "grid_template_areas": null,
            "grid_template_columns": null,
            "grid_template_rows": null,
            "height": null,
            "justify_content": null,
            "justify_items": null,
            "left": null,
            "margin": null,
            "max_height": null,
            "max_width": null,
            "min_height": null,
            "min_width": null,
            "object_fit": null,
            "object_position": null,
            "order": null,
            "overflow": null,
            "overflow_x": null,
            "overflow_y": null,
            "padding": null,
            "right": null,
            "top": null,
            "visibility": null,
            "width": null
          }
        },
        "6032d979c5f04bb686543162e95426b1": {
          "model_module": "@jupyter-widgets/controls",
          "model_name": "DescriptionStyleModel",
          "model_module_version": "1.5.0",
          "state": {
            "_model_module": "@jupyter-widgets/controls",
            "_model_module_version": "1.5.0",
            "_model_name": "DescriptionStyleModel",
            "_view_count": null,
            "_view_module": "@jupyter-widgets/base",
            "_view_module_version": "1.2.0",
            "_view_name": "StyleView",
            "description_width": ""
          }
        },
        "dc61e51bb5004badb893d7a4b6e9b0ca": {
          "model_module": "@jupyter-widgets/base",
          "model_name": "LayoutModel",
          "model_module_version": "1.2.0",
          "state": {
            "_model_module": "@jupyter-widgets/base",
            "_model_module_version": "1.2.0",
            "_model_name": "LayoutModel",
            "_view_count": null,
            "_view_module": "@jupyter-widgets/base",
            "_view_module_version": "1.2.0",
            "_view_name": "LayoutView",
            "align_content": null,
            "align_items": null,
            "align_self": null,
            "border": null,
            "bottom": null,
            "display": null,
            "flex": null,
            "flex_flow": null,
            "grid_area": null,
            "grid_auto_columns": null,
            "grid_auto_flow": null,
            "grid_auto_rows": null,
            "grid_column": null,
            "grid_gap": null,
            "grid_row": null,
            "grid_template_areas": null,
            "grid_template_columns": null,
            "grid_template_rows": null,
            "height": null,
            "justify_content": null,
            "justify_items": null,
            "left": null,
            "margin": null,
            "max_height": null,
            "max_width": null,
            "min_height": null,
            "min_width": null,
            "object_fit": null,
            "object_position": null,
            "order": null,
            "overflow": null,
            "overflow_x": null,
            "overflow_y": null,
            "padding": null,
            "right": null,
            "top": null,
            "visibility": null,
            "width": null
          }
        },
        "8c8217fa7a074a8a88224eec1fa8a00c": {
          "model_module": "@jupyter-widgets/controls",
          "model_name": "ProgressStyleModel",
          "model_module_version": "1.5.0",
          "state": {
            "_model_module": "@jupyter-widgets/controls",
            "_model_module_version": "1.5.0",
            "_model_name": "ProgressStyleModel",
            "_view_count": null,
            "_view_module": "@jupyter-widgets/base",
            "_view_module_version": "1.2.0",
            "_view_name": "StyleView",
            "bar_color": null,
            "description_width": ""
          }
        },
        "5569be9a60c84c8eab6cb49f5049f4d5": {
          "model_module": "@jupyter-widgets/base",
          "model_name": "LayoutModel",
          "model_module_version": "1.2.0",
          "state": {
            "_model_module": "@jupyter-widgets/base",
            "_model_module_version": "1.2.0",
            "_model_name": "LayoutModel",
            "_view_count": null,
            "_view_module": "@jupyter-widgets/base",
            "_view_module_version": "1.2.0",
            "_view_name": "LayoutView",
            "align_content": null,
            "align_items": null,
            "align_self": null,
            "border": null,
            "bottom": null,
            "display": null,
            "flex": null,
            "flex_flow": null,
            "grid_area": null,
            "grid_auto_columns": null,
            "grid_auto_flow": null,
            "grid_auto_rows": null,
            "grid_column": null,
            "grid_gap": null,
            "grid_row": null,
            "grid_template_areas": null,
            "grid_template_columns": null,
            "grid_template_rows": null,
            "height": null,
            "justify_content": null,
            "justify_items": null,
            "left": null,
            "margin": null,
            "max_height": null,
            "max_width": null,
            "min_height": null,
            "min_width": null,
            "object_fit": null,
            "object_position": null,
            "order": null,
            "overflow": null,
            "overflow_x": null,
            "overflow_y": null,
            "padding": null,
            "right": null,
            "top": null,
            "visibility": null,
            "width": null
          }
        },
        "72c649d3bd0e428e922bf9008ae2ad1a": {
          "model_module": "@jupyter-widgets/controls",
          "model_name": "DescriptionStyleModel",
          "model_module_version": "1.5.0",
          "state": {
            "_model_module": "@jupyter-widgets/controls",
            "_model_module_version": "1.5.0",
            "_model_name": "DescriptionStyleModel",
            "_view_count": null,
            "_view_module": "@jupyter-widgets/base",
            "_view_module_version": "1.2.0",
            "_view_name": "StyleView",
            "description_width": ""
          }
        },
        "157002c4cf8147009dfe63904fc5814f": {
          "model_module": "@jupyter-widgets/controls",
          "model_name": "HBoxModel",
          "model_module_version": "1.5.0",
          "state": {
            "_dom_classes": [],
            "_model_module": "@jupyter-widgets/controls",
            "_model_module_version": "1.5.0",
            "_model_name": "HBoxModel",
            "_view_count": null,
            "_view_module": "@jupyter-widgets/controls",
            "_view_module_version": "1.5.0",
            "_view_name": "HBoxView",
            "box_style": "",
            "children": [
              "IPY_MODEL_f924883983604f489ece8be22b0bb312",
              "IPY_MODEL_4e9096de45604882bec195b7a0f3c787",
              "IPY_MODEL_9e7a0c18c8c54cb79a92e8f4857340bb"
            ],
            "layout": "IPY_MODEL_3098d05bd32d48c58b146055a42cdf45"
          }
        },
        "f924883983604f489ece8be22b0bb312": {
          "model_module": "@jupyter-widgets/controls",
          "model_name": "HTMLModel",
          "model_module_version": "1.5.0",
          "state": {
            "_dom_classes": [],
            "_model_module": "@jupyter-widgets/controls",
            "_model_module_version": "1.5.0",
            "_model_name": "HTMLModel",
            "_view_count": null,
            "_view_module": "@jupyter-widgets/controls",
            "_view_module_version": "1.5.0",
            "_view_name": "HTMLView",
            "description": "",
            "description_tooltip": null,
            "layout": "IPY_MODEL_b16e9be40b71459c89c99c91558bbe4c",
            "placeholder": "​",
            "style": "IPY_MODEL_40527da5db8342bd97b37ffa3e45eaff",
            "value": "special_tokens_map.json: 100%"
          }
        },
        "4e9096de45604882bec195b7a0f3c787": {
          "model_module": "@jupyter-widgets/controls",
          "model_name": "FloatProgressModel",
          "model_module_version": "1.5.0",
          "state": {
            "_dom_classes": [],
            "_model_module": "@jupyter-widgets/controls",
            "_model_module_version": "1.5.0",
            "_model_name": "FloatProgressModel",
            "_view_count": null,
            "_view_module": "@jupyter-widgets/controls",
            "_view_module_version": "1.5.0",
            "_view_name": "ProgressView",
            "bar_style": "success",
            "description": "",
            "description_tooltip": null,
            "layout": "IPY_MODEL_7a1f478b3f2f47a9a52ed9d44060d2d1",
            "max": 717,
            "min": 0,
            "orientation": "horizontal",
            "style": "IPY_MODEL_7feb774603df4af28f115c0bc23f620c",
            "value": 717
          }
        },
        "9e7a0c18c8c54cb79a92e8f4857340bb": {
          "model_module": "@jupyter-widgets/controls",
          "model_name": "HTMLModel",
          "model_module_version": "1.5.0",
          "state": {
            "_dom_classes": [],
            "_model_module": "@jupyter-widgets/controls",
            "_model_module_version": "1.5.0",
            "_model_name": "HTMLModel",
            "_view_count": null,
            "_view_module": "@jupyter-widgets/controls",
            "_view_module_version": "1.5.0",
            "_view_name": "HTMLView",
            "description": "",
            "description_tooltip": null,
            "layout": "IPY_MODEL_193c1cdef6684a4f9833410fb4de0eb9",
            "placeholder": "​",
            "style": "IPY_MODEL_ae3de2e9be31404389216a76cce934e4",
            "value": " 717/717 [00:00&lt;00:00, 30.2kB/s]"
          }
        },
        "3098d05bd32d48c58b146055a42cdf45": {
          "model_module": "@jupyter-widgets/base",
          "model_name": "LayoutModel",
          "model_module_version": "1.2.0",
          "state": {
            "_model_module": "@jupyter-widgets/base",
            "_model_module_version": "1.2.0",
            "_model_name": "LayoutModel",
            "_view_count": null,
            "_view_module": "@jupyter-widgets/base",
            "_view_module_version": "1.2.0",
            "_view_name": "LayoutView",
            "align_content": null,
            "align_items": null,
            "align_self": null,
            "border": null,
            "bottom": null,
            "display": null,
            "flex": null,
            "flex_flow": null,
            "grid_area": null,
            "grid_auto_columns": null,
            "grid_auto_flow": null,
            "grid_auto_rows": null,
            "grid_column": null,
            "grid_gap": null,
            "grid_row": null,
            "grid_template_areas": null,
            "grid_template_columns": null,
            "grid_template_rows": null,
            "height": null,
            "justify_content": null,
            "justify_items": null,
            "left": null,
            "margin": null,
            "max_height": null,
            "max_width": null,
            "min_height": null,
            "min_width": null,
            "object_fit": null,
            "object_position": null,
            "order": null,
            "overflow": null,
            "overflow_x": null,
            "overflow_y": null,
            "padding": null,
            "right": null,
            "top": null,
            "visibility": null,
            "width": null
          }
        },
        "b16e9be40b71459c89c99c91558bbe4c": {
          "model_module": "@jupyter-widgets/base",
          "model_name": "LayoutModel",
          "model_module_version": "1.2.0",
          "state": {
            "_model_module": "@jupyter-widgets/base",
            "_model_module_version": "1.2.0",
            "_model_name": "LayoutModel",
            "_view_count": null,
            "_view_module": "@jupyter-widgets/base",
            "_view_module_version": "1.2.0",
            "_view_name": "LayoutView",
            "align_content": null,
            "align_items": null,
            "align_self": null,
            "border": null,
            "bottom": null,
            "display": null,
            "flex": null,
            "flex_flow": null,
            "grid_area": null,
            "grid_auto_columns": null,
            "grid_auto_flow": null,
            "grid_auto_rows": null,
            "grid_column": null,
            "grid_gap": null,
            "grid_row": null,
            "grid_template_areas": null,
            "grid_template_columns": null,
            "grid_template_rows": null,
            "height": null,
            "justify_content": null,
            "justify_items": null,
            "left": null,
            "margin": null,
            "max_height": null,
            "max_width": null,
            "min_height": null,
            "min_width": null,
            "object_fit": null,
            "object_position": null,
            "order": null,
            "overflow": null,
            "overflow_x": null,
            "overflow_y": null,
            "padding": null,
            "right": null,
            "top": null,
            "visibility": null,
            "width": null
          }
        },
        "40527da5db8342bd97b37ffa3e45eaff": {
          "model_module": "@jupyter-widgets/controls",
          "model_name": "DescriptionStyleModel",
          "model_module_version": "1.5.0",
          "state": {
            "_model_module": "@jupyter-widgets/controls",
            "_model_module_version": "1.5.0",
            "_model_name": "DescriptionStyleModel",
            "_view_count": null,
            "_view_module": "@jupyter-widgets/base",
            "_view_module_version": "1.2.0",
            "_view_name": "StyleView",
            "description_width": ""
          }
        },
        "7a1f478b3f2f47a9a52ed9d44060d2d1": {
          "model_module": "@jupyter-widgets/base",
          "model_name": "LayoutModel",
          "model_module_version": "1.2.0",
          "state": {
            "_model_module": "@jupyter-widgets/base",
            "_model_module_version": "1.2.0",
            "_model_name": "LayoutModel",
            "_view_count": null,
            "_view_module": "@jupyter-widgets/base",
            "_view_module_version": "1.2.0",
            "_view_name": "LayoutView",
            "align_content": null,
            "align_items": null,
            "align_self": null,
            "border": null,
            "bottom": null,
            "display": null,
            "flex": null,
            "flex_flow": null,
            "grid_area": null,
            "grid_auto_columns": null,
            "grid_auto_flow": null,
            "grid_auto_rows": null,
            "grid_column": null,
            "grid_gap": null,
            "grid_row": null,
            "grid_template_areas": null,
            "grid_template_columns": null,
            "grid_template_rows": null,
            "height": null,
            "justify_content": null,
            "justify_items": null,
            "left": null,
            "margin": null,
            "max_height": null,
            "max_width": null,
            "min_height": null,
            "min_width": null,
            "object_fit": null,
            "object_position": null,
            "order": null,
            "overflow": null,
            "overflow_x": null,
            "overflow_y": null,
            "padding": null,
            "right": null,
            "top": null,
            "visibility": null,
            "width": null
          }
        },
        "7feb774603df4af28f115c0bc23f620c": {
          "model_module": "@jupyter-widgets/controls",
          "model_name": "ProgressStyleModel",
          "model_module_version": "1.5.0",
          "state": {
            "_model_module": "@jupyter-widgets/controls",
            "_model_module_version": "1.5.0",
            "_model_name": "ProgressStyleModel",
            "_view_count": null,
            "_view_module": "@jupyter-widgets/base",
            "_view_module_version": "1.2.0",
            "_view_name": "StyleView",
            "bar_color": null,
            "description_width": ""
          }
        },
        "193c1cdef6684a4f9833410fb4de0eb9": {
          "model_module": "@jupyter-widgets/base",
          "model_name": "LayoutModel",
          "model_module_version": "1.2.0",
          "state": {
            "_model_module": "@jupyter-widgets/base",
            "_model_module_version": "1.2.0",
            "_model_name": "LayoutModel",
            "_view_count": null,
            "_view_module": "@jupyter-widgets/base",
            "_view_module_version": "1.2.0",
            "_view_name": "LayoutView",
            "align_content": null,
            "align_items": null,
            "align_self": null,
            "border": null,
            "bottom": null,
            "display": null,
            "flex": null,
            "flex_flow": null,
            "grid_area": null,
            "grid_auto_columns": null,
            "grid_auto_flow": null,
            "grid_auto_rows": null,
            "grid_column": null,
            "grid_gap": null,
            "grid_row": null,
            "grid_template_areas": null,
            "grid_template_columns": null,
            "grid_template_rows": null,
            "height": null,
            "justify_content": null,
            "justify_items": null,
            "left": null,
            "margin": null,
            "max_height": null,
            "max_width": null,
            "min_height": null,
            "min_width": null,
            "object_fit": null,
            "object_position": null,
            "order": null,
            "overflow": null,
            "overflow_x": null,
            "overflow_y": null,
            "padding": null,
            "right": null,
            "top": null,
            "visibility": null,
            "width": null
          }
        },
        "ae3de2e9be31404389216a76cce934e4": {
          "model_module": "@jupyter-widgets/controls",
          "model_name": "DescriptionStyleModel",
          "model_module_version": "1.5.0",
          "state": {
            "_model_module": "@jupyter-widgets/controls",
            "_model_module_version": "1.5.0",
            "_model_name": "DescriptionStyleModel",
            "_view_count": null,
            "_view_module": "@jupyter-widgets/base",
            "_view_module_version": "1.2.0",
            "_view_name": "StyleView",
            "description_width": ""
          }
        }
      }
    }
  },
  "cells": [
    {
      "cell_type": "markdown",
      "metadata": {
        "id": "view-in-github",
        "colab_type": "text"
      },
      "source": [
        "<a href=\"https://colab.research.google.com/github/KolKemboi/Classical-AI/blob/main/End_To_End_voice_translation.ipynb\" target=\"_parent\"><img src=\"https://colab.research.google.com/assets/colab-badge.svg\" alt=\"Open In Colab\"/></a>"
      ]
    },
    {
      "cell_type": "markdown",
      "source": [
        "# **voice to text**"
      ],
      "metadata": {
        "id": "UUHOnkxxFj2N"
      }
    },
    {
      "cell_type": "code",
      "execution_count": 1,
      "metadata": {
        "colab": {
          "base_uri": "https://localhost:8080/"
        },
        "id": "AVwShlVzEt3w",
        "outputId": "0500a79f-a1ce-483e-d029-9370a0d21432"
      },
      "outputs": [
        {
          "output_type": "stream",
          "name": "stdout",
          "text": [
            "Collecting git+https://github.com/openai/whisper.git\n",
            "  Cloning https://github.com/openai/whisper.git to /tmp/pip-req-build-858xmbrn\n",
            "  Running command git clone --filter=blob:none --quiet https://github.com/openai/whisper.git /tmp/pip-req-build-858xmbrn\n",
            "  Resolved https://github.com/openai/whisper.git to commit 90db0de1896c23cbfaf0c58bc2d30665f709f170\n",
            "  Installing build dependencies ... \u001b[?25l\u001b[?25hdone\n",
            "  Getting requirements to build wheel ... \u001b[?25l\u001b[?25hdone\n",
            "  Preparing metadata (pyproject.toml) ... \u001b[?25l\u001b[?25hdone\n",
            "Requirement already satisfied: numba in /usr/local/lib/python3.10/dist-packages (from openai-whisper==20240930) (0.60.0)\n",
            "Requirement already satisfied: numpy in /usr/local/lib/python3.10/dist-packages (from openai-whisper==20240930) (1.26.4)\n",
            "Requirement already satisfied: torch in /usr/local/lib/python3.10/dist-packages (from openai-whisper==20240930) (2.5.1+cu121)\n",
            "Requirement already satisfied: tqdm in /usr/local/lib/python3.10/dist-packages (from openai-whisper==20240930) (4.66.6)\n",
            "Requirement already satisfied: more-itertools in /usr/local/lib/python3.10/dist-packages (from openai-whisper==20240930) (10.5.0)\n",
            "Collecting tiktoken (from openai-whisper==20240930)\n",
            "  Downloading tiktoken-0.8.0-cp310-cp310-manylinux_2_17_x86_64.manylinux2014_x86_64.whl.metadata (6.6 kB)\n",
            "Collecting triton>=2.0.0 (from openai-whisper==20240930)\n",
            "  Downloading triton-3.1.0-cp310-cp310-manylinux_2_17_x86_64.manylinux2014_x86_64.whl.metadata (1.3 kB)\n",
            "Requirement already satisfied: filelock in /usr/local/lib/python3.10/dist-packages (from triton>=2.0.0->openai-whisper==20240930) (3.16.1)\n",
            "Requirement already satisfied: llvmlite<0.44,>=0.43.0dev0 in /usr/local/lib/python3.10/dist-packages (from numba->openai-whisper==20240930) (0.43.0)\n",
            "Requirement already satisfied: regex>=2022.1.18 in /usr/local/lib/python3.10/dist-packages (from tiktoken->openai-whisper==20240930) (2024.9.11)\n",
            "Requirement already satisfied: requests>=2.26.0 in /usr/local/lib/python3.10/dist-packages (from tiktoken->openai-whisper==20240930) (2.32.3)\n",
            "Requirement already satisfied: typing-extensions>=4.8.0 in /usr/local/lib/python3.10/dist-packages (from torch->openai-whisper==20240930) (4.12.2)\n",
            "Requirement already satisfied: networkx in /usr/local/lib/python3.10/dist-packages (from torch->openai-whisper==20240930) (3.4.2)\n",
            "Requirement already satisfied: jinja2 in /usr/local/lib/python3.10/dist-packages (from torch->openai-whisper==20240930) (3.1.4)\n",
            "Requirement already satisfied: fsspec in /usr/local/lib/python3.10/dist-packages (from torch->openai-whisper==20240930) (2024.10.0)\n",
            "Requirement already satisfied: sympy==1.13.1 in /usr/local/lib/python3.10/dist-packages (from torch->openai-whisper==20240930) (1.13.1)\n",
            "Requirement already satisfied: mpmath<1.4,>=1.1.0 in /usr/local/lib/python3.10/dist-packages (from sympy==1.13.1->torch->openai-whisper==20240930) (1.3.0)\n",
            "Requirement already satisfied: charset-normalizer<4,>=2 in /usr/local/lib/python3.10/dist-packages (from requests>=2.26.0->tiktoken->openai-whisper==20240930) (3.4.0)\n",
            "Requirement already satisfied: idna<4,>=2.5 in /usr/local/lib/python3.10/dist-packages (from requests>=2.26.0->tiktoken->openai-whisper==20240930) (3.10)\n",
            "Requirement already satisfied: urllib3<3,>=1.21.1 in /usr/local/lib/python3.10/dist-packages (from requests>=2.26.0->tiktoken->openai-whisper==20240930) (2.2.3)\n",
            "Requirement already satisfied: certifi>=2017.4.17 in /usr/local/lib/python3.10/dist-packages (from requests>=2.26.0->tiktoken->openai-whisper==20240930) (2024.8.30)\n",
            "Requirement already satisfied: MarkupSafe>=2.0 in /usr/local/lib/python3.10/dist-packages (from jinja2->torch->openai-whisper==20240930) (3.0.2)\n",
            "Downloading triton-3.1.0-cp310-cp310-manylinux_2_17_x86_64.manylinux2014_x86_64.whl (209.5 MB)\n",
            "\u001b[2K   \u001b[90m━━━━━━━━━━━━━━━━━━━━━━━━━━━━━━━━━━━━━━━━\u001b[0m \u001b[32m209.5/209.5 MB\u001b[0m \u001b[31m5.4 MB/s\u001b[0m eta \u001b[36m0:00:00\u001b[0m\n",
            "\u001b[?25hDownloading tiktoken-0.8.0-cp310-cp310-manylinux_2_17_x86_64.manylinux2014_x86_64.whl (1.2 MB)\n",
            "\u001b[2K   \u001b[90m━━━━━━━━━━━━━━━━━━━━━━━━━━━━━━━━━━━━━━━━\u001b[0m \u001b[32m1.2/1.2 MB\u001b[0m \u001b[31m48.2 MB/s\u001b[0m eta \u001b[36m0:00:00\u001b[0m\n",
            "\u001b[?25hBuilding wheels for collected packages: openai-whisper\n",
            "  Building wheel for openai-whisper (pyproject.toml) ... \u001b[?25l\u001b[?25hdone\n",
            "  Created wheel for openai-whisper: filename=openai_whisper-20240930-py3-none-any.whl size=803583 sha256=2cfb0affbac2144aa3fb7ba29116648a57c930b50ec0532ef996673fd911a21a\n",
            "  Stored in directory: /tmp/pip-ephem-wheel-cache-ws3s1i9r/wheels/8b/6c/d0/622666868c179f156cf595c8b6f06f88bc5d80c4b31dccaa03\n",
            "Successfully built openai-whisper\n",
            "Installing collected packages: triton, tiktoken, openai-whisper\n",
            "Successfully installed openai-whisper-20240930 tiktoken-0.8.0 triton-3.1.0\n"
          ]
        }
      ],
      "source": [
        "!pip install git+https://github.com/openai/whisper.git"
      ]
    },
    {
      "cell_type": "code",
      "source": [
        "import whisper"
      ],
      "metadata": {
        "id": "nwpHcmp6FpQG"
      },
      "execution_count": 2,
      "outputs": []
    },
    {
      "cell_type": "code",
      "source": [
        "model = whisper.load_model(\"base\")"
      ],
      "metadata": {
        "colab": {
          "base_uri": "https://localhost:8080/"
        },
        "id": "odY52RyfF4H4",
        "outputId": "0e25e1b4-ea05-4f06-a137-6870358da86c"
      },
      "execution_count": 3,
      "outputs": [
        {
          "output_type": "stream",
          "name": "stderr",
          "text": [
            "100%|███████████████████████████████████████| 139M/139M [00:02<00:00, 57.6MiB/s]\n",
            "/usr/local/lib/python3.10/dist-packages/whisper/__init__.py:150: FutureWarning: You are using `torch.load` with `weights_only=False` (the current default value), which uses the default pickle module implicitly. It is possible to construct malicious pickle data which will execute arbitrary code during unpickling (See https://github.com/pytorch/pytorch/blob/main/SECURITY.md#untrusted-models for more details). In a future release, the default value for `weights_only` will be flipped to `True`. This limits the functions that could be executed during unpickling. Arbitrary objects will no longer be allowed to be loaded via this mode unless they are explicitly allowlisted by the user via `torch.serialization.add_safe_globals`. We recommend you start setting `weights_only=True` for any use case where you don't have full control of the loaded file. Please open an issue on GitHub for any issues related to this experimental feature.\n",
            "  checkpoint = torch.load(fp, map_location=device)\n"
          ]
        }
      ]
    },
    {
      "cell_type": "code",
      "source": [
        "audio = whisper.load_audio(\"Test.m4a\")\n",
        "audio = whisper.pad_or_trim(audio)"
      ],
      "metadata": {
        "id": "rRiRFX9uF4Ed"
      },
      "execution_count": 4,
      "outputs": []
    },
    {
      "cell_type": "code",
      "source": [
        "audio"
      ],
      "metadata": {
        "colab": {
          "base_uri": "https://localhost:8080/"
        },
        "id": "Hjch2DuYF4BL",
        "outputId": "50342418-7259-4ca0-a5ac-fbac83123e8a"
      },
      "execution_count": 5,
      "outputs": [
        {
          "output_type": "execute_result",
          "data": {
            "text/plain": [
              "array([0., 0., 0., ..., 0., 0., 0.], dtype=float32)"
            ]
          },
          "metadata": {},
          "execution_count": 5
        }
      ]
    },
    {
      "cell_type": "code",
      "source": [
        "mel = whisper.log_mel_spectrogram(audio).to(model.device)"
      ],
      "metadata": {
        "id": "UssIbLH5F39X"
      },
      "execution_count": 6,
      "outputs": []
    },
    {
      "cell_type": "code",
      "source": [
        "_, probs = model.detect_language(mel)"
      ],
      "metadata": {
        "id": "7pR4w0xiF37D"
      },
      "execution_count": 7,
      "outputs": []
    },
    {
      "cell_type": "code",
      "source": [
        "max(probs, key=probs.get)"
      ],
      "metadata": {
        "colab": {
          "base_uri": "https://localhost:8080/",
          "height": 36
        },
        "id": "ZSvwVC41F34a",
        "outputId": "9e9ad85f-b21f-4b1d-c0cd-43a0643be049"
      },
      "execution_count": 8,
      "outputs": [
        {
          "output_type": "execute_result",
          "data": {
            "text/plain": [
              "'en'"
            ],
            "application/vnd.google.colaboratory.intrinsic+json": {
              "type": "string"
            }
          },
          "metadata": {},
          "execution_count": 8
        }
      ]
    },
    {
      "cell_type": "code",
      "source": [
        "options = whisper.DecodingOptions()\n",
        "res = whisper.decode(model, mel, options)"
      ],
      "metadata": {
        "id": "cuoU7U6sF31Q"
      },
      "execution_count": 9,
      "outputs": []
    },
    {
      "cell_type": "code",
      "source": [
        "print(res.text)"
      ],
      "metadata": {
        "colab": {
          "base_uri": "https://localhost:8080/"
        },
        "id": "NNDqt2V0F3yW",
        "outputId": "00643348-f8bb-4ed5-8881-f492ffee5400"
      },
      "execution_count": 10,
      "outputs": [
        {
          "output_type": "stream",
          "name": "stdout",
          "text": [
            "Hello, isn't that test? If you could see it's watching, it's watching. So it's a topic. Yeah, it's that. And I'm going to do it right.\n"
          ]
        }
      ]
    },
    {
      "cell_type": "code",
      "source": [
        "article_en = res.text"
      ],
      "metadata": {
        "id": "XjViqfygF3vw"
      },
      "execution_count": 11,
      "outputs": []
    },
    {
      "cell_type": "markdown",
      "source": [
        "# **translation**"
      ],
      "metadata": {
        "id": "xghVT409GdNc"
      }
    },
    {
      "cell_type": "code",
      "source": [
        "import transformers"
      ],
      "metadata": {
        "id": "xbvx--teGcT0"
      },
      "execution_count": 12,
      "outputs": []
    },
    {
      "cell_type": "code",
      "source": [
        "from transformers import MBartForConditionalGeneration, MBart50TokenizerFast"
      ],
      "metadata": {
        "id": "CYQGdTE8F3sb"
      },
      "execution_count": 13,
      "outputs": []
    },
    {
      "cell_type": "code",
      "source": [
        "model = MBartForConditionalGeneration.from_pretrained(\"facebook/mbart-large-50-one-to-many-mmt\")\n",
        "tokenizer = MBart50TokenizerFast.from_pretrained(\"facebook/mbart-large-50-one-to-many-mmt\", src_lang=\"en_XX\")\n"
      ],
      "metadata": {
        "colab": {
          "base_uri": "https://localhost:8080/",
          "height": 340,
          "referenced_widgets": [
            "849530af20c44b31ba8a510a09305bf6",
            "3b43ccb644cc407da053b2b6ad09e6c1",
            "c914a8c3c25f4c85a2994d800b8ceecd",
            "29c2f0b229cc498296f999a8c55ff24b",
            "3b90bcabcfb94adba103bd63500e7950",
            "da9d4b0b31204f899761688ac46dd7a8",
            "e1116678300f4e7986de27797bde8e65",
            "8a93c243f6b443afb1f982d85aa3920b",
            "f42cd3fad30044b8a602c02154bd167b",
            "3d182faebc7f4ebea289ea44626d2b14",
            "0249b31ebf1b4f49b5615dcd062eabfc",
            "ec4ce12415024702be576acb17b1c869",
            "1e985f90131340388d94a379d000b4d7",
            "c799c74ea1194913ac4c5b576eda61e8",
            "f21a50dd7bda4ba2b251127c940d3284",
            "4d56170dc4954f98a8cc343410d5ec64",
            "a58c6b54aee74b3ba38d6c6cd4f468b2",
            "266d6af1a9e94b73924a4e568c91a3ab",
            "823a17748234410182a3f15987fe3e19",
            "ea7d984ab1564749bce1c724fb9ceef3",
            "48c9e169f26b44788a1ddb5a2dcfd256",
            "dc55ed3132f94ce59ca7ea3daad7aaec",
            "0b0dcc298b5942cba17607ada5adce0d",
            "024321b4c8164768b4419cada1b5a968",
            "492788a33dbd423888bece2ec6108c24",
            "9297e4d3b0d249e88628c860a16e27ff",
            "ce8ac977e390421980b21144ffc3d3d9",
            "130ec4bfc9e949d7b91290360e51f23d",
            "60357ef27ec64626a66ec033103a3014",
            "afbe705f408c47c6aa6d321d7416fd0b",
            "61248a94474b4ac49289a9865c900a06",
            "61f7b936a4ca4063a742be01b657f985",
            "2bd67c5e60dd43248a7732ac248f70fb",
            "da2bb71a212f44758c565500ee7e2a80",
            "dfa491f88d8a4e2f8bbb823963cb0984",
            "0ae1e9563f8e484999890102c4689935",
            "f85c7e612b28449e8e6dc9e0404e5793",
            "6e51a09b70124e77878dee824c2abc07",
            "240026982a454a598ff41dd41d863ea7",
            "3bf4522631404c50a1b92c71b8ae3c51",
            "ab385d6f865744f1943e60629e43753d",
            "754ef1168bc64d0f923560ba76f10a79",
            "afcfa2737ce64fd295c9548b834a2305",
            "1f50160888174793a85d4c1198539781",
            "ced2f65e6fa34dfab338df43696dbd8a",
            "4c3321109218404784f410da005f07fd",
            "e9732f4c717f4fdfbd8fb1128ff10e70",
            "7dcd20eddefc49fabbdf8d51b1b688cd",
            "7492d3e92db841dfa3f13c804acc367d",
            "23838841ee864851a415f1b5073d5594",
            "6032d979c5f04bb686543162e95426b1",
            "dc61e51bb5004badb893d7a4b6e9b0ca",
            "8c8217fa7a074a8a88224eec1fa8a00c",
            "5569be9a60c84c8eab6cb49f5049f4d5",
            "72c649d3bd0e428e922bf9008ae2ad1a",
            "157002c4cf8147009dfe63904fc5814f",
            "f924883983604f489ece8be22b0bb312",
            "4e9096de45604882bec195b7a0f3c787",
            "9e7a0c18c8c54cb79a92e8f4857340bb",
            "3098d05bd32d48c58b146055a42cdf45",
            "b16e9be40b71459c89c99c91558bbe4c",
            "40527da5db8342bd97b37ffa3e45eaff",
            "7a1f478b3f2f47a9a52ed9d44060d2d1",
            "7feb774603df4af28f115c0bc23f620c",
            "193c1cdef6684a4f9833410fb4de0eb9",
            "ae3de2e9be31404389216a76cce934e4"
          ]
        },
        "id": "k27oNVgtF3pT",
        "outputId": "1e765421-d57a-4cd0-bd6b-c711f40a8747"
      },
      "execution_count": 14,
      "outputs": [
        {
          "output_type": "stream",
          "name": "stderr",
          "text": [
            "/usr/local/lib/python3.10/dist-packages/huggingface_hub/utils/_auth.py:94: UserWarning: \n",
            "The secret `HF_TOKEN` does not exist in your Colab secrets.\n",
            "To authenticate with the Hugging Face Hub, create a token in your settings tab (https://huggingface.co/settings/tokens), set it as secret in your Google Colab and restart your session.\n",
            "You will be able to reuse this secret in all of your notebooks.\n",
            "Please note that authentication is recommended but still optional to access public models or datasets.\n",
            "  warnings.warn(\n"
          ]
        },
        {
          "output_type": "display_data",
          "data": {
            "text/plain": [
              "config.json:   0%|          | 0.00/1.43k [00:00<?, ?B/s]"
            ],
            "application/vnd.jupyter.widget-view+json": {
              "version_major": 2,
              "version_minor": 0,
              "model_id": "849530af20c44b31ba8a510a09305bf6"
            }
          },
          "metadata": {}
        },
        {
          "output_type": "display_data",
          "data": {
            "text/plain": [
              "pytorch_model.bin:   0%|          | 0.00/2.44G [00:00<?, ?B/s]"
            ],
            "application/vnd.jupyter.widget-view+json": {
              "version_major": 2,
              "version_minor": 0,
              "model_id": "ec4ce12415024702be576acb17b1c869"
            }
          },
          "metadata": {}
        },
        {
          "output_type": "display_data",
          "data": {
            "text/plain": [
              "generation_config.json:   0%|          | 0.00/261 [00:00<?, ?B/s]"
            ],
            "application/vnd.jupyter.widget-view+json": {
              "version_major": 2,
              "version_minor": 0,
              "model_id": "0b0dcc298b5942cba17607ada5adce0d"
            }
          },
          "metadata": {}
        },
        {
          "output_type": "display_data",
          "data": {
            "text/plain": [
              "tokenizer_config.json:   0%|          | 0.00/528 [00:00<?, ?B/s]"
            ],
            "application/vnd.jupyter.widget-view+json": {
              "version_major": 2,
              "version_minor": 0,
              "model_id": "da2bb71a212f44758c565500ee7e2a80"
            }
          },
          "metadata": {}
        },
        {
          "output_type": "display_data",
          "data": {
            "text/plain": [
              "sentencepiece.bpe.model:   0%|          | 0.00/5.07M [00:00<?, ?B/s]"
            ],
            "application/vnd.jupyter.widget-view+json": {
              "version_major": 2,
              "version_minor": 0,
              "model_id": "ced2f65e6fa34dfab338df43696dbd8a"
            }
          },
          "metadata": {}
        },
        {
          "output_type": "display_data",
          "data": {
            "text/plain": [
              "special_tokens_map.json:   0%|          | 0.00/717 [00:00<?, ?B/s]"
            ],
            "application/vnd.jupyter.widget-view+json": {
              "version_major": 2,
              "version_minor": 0,
              "model_id": "157002c4cf8147009dfe63904fc5814f"
            }
          },
          "metadata": {}
        }
      ]
    },
    {
      "cell_type": "code",
      "source": [
        "model_inputs = tokenizer(article_en, return_tensors=\"pt\")"
      ],
      "metadata": {
        "id": "Pww64hRkGl62"
      },
      "execution_count": 15,
      "outputs": []
    },
    {
      "cell_type": "code",
      "source": [
        "\n",
        "\n",
        "generated_tokens = model.generate(\n",
        "    **model_inputs,\n",
        "    forced_bos_token_id=tokenizer.lang_code_to_id[\"ko_KR\"]\n",
        ")\n",
        "\n",
        "\n"
      ],
      "metadata": {
        "id": "9-7pZViCGl3D"
      },
      "execution_count": 16,
      "outputs": []
    },
    {
      "cell_type": "code",
      "source": [
        "\n",
        "translation = tokenizer.batch_decode(generated_tokens, skip_special_tokens=True)"
      ],
      "metadata": {
        "id": "YAIHcKz8Glzn"
      },
      "execution_count": 17,
      "outputs": []
    },
    {
      "cell_type": "code",
      "source": [
        "translation"
      ],
      "metadata": {
        "colab": {
          "base_uri": "https://localhost:8080/"
        },
        "id": "y2cOKhmXG-EP",
        "outputId": "14066544-bdfb-4ae9-8ef0-9b28b1653757"
      },
      "execution_count": 18,
      "outputs": [
        {
          "output_type": "execute_result",
          "data": {
            "text/plain": [
              "['안녕, 그건 시험이 아니죠? 여러분이 볼 수 있다면, 그건 보고 있어요. 그건 주제예요. 네, 그건 그거예요. 그리고 저는 그걸 옳게 할 겁니다.']"
            ]
          },
          "metadata": {},
          "execution_count": 18
        }
      ]
    },
    {
      "cell_type": "markdown",
      "source": [
        "# **Text to Speech**"
      ],
      "metadata": {
        "id": "IlzBYVkoG5Wq"
      }
    },
    {
      "cell_type": "code",
      "source": [
        "%%bash\n",
        "pip install numpy scipy librosa unidecode inflect librosa\n",
        "apt-get update\n",
        "apt-get install -y libsndfile1"
      ],
      "metadata": {
        "colab": {
          "base_uri": "https://localhost:8080/"
        },
        "id": "sH58iPYeGlwh",
        "outputId": "8c1f1d51-8b3c-4be3-c8a7-265c056517b6"
      },
      "execution_count": 19,
      "outputs": [
        {
          "output_type": "stream",
          "name": "stdout",
          "text": [
            "Requirement already satisfied: numpy in /usr/local/lib/python3.10/dist-packages (1.26.4)\n",
            "Requirement already satisfied: scipy in /usr/local/lib/python3.10/dist-packages (1.13.1)\n",
            "Requirement already satisfied: librosa in /usr/local/lib/python3.10/dist-packages (0.10.2.post1)\n",
            "Collecting unidecode\n",
            "  Downloading Unidecode-1.3.8-py3-none-any.whl.metadata (13 kB)\n",
            "Requirement already satisfied: inflect in /usr/local/lib/python3.10/dist-packages (7.4.0)\n",
            "Requirement already satisfied: audioread>=2.1.9 in /usr/local/lib/python3.10/dist-packages (from librosa) (3.0.1)\n",
            "Requirement already satisfied: scikit-learn>=0.20.0 in /usr/local/lib/python3.10/dist-packages (from librosa) (1.5.2)\n",
            "Requirement already satisfied: joblib>=0.14 in /usr/local/lib/python3.10/dist-packages (from librosa) (1.4.2)\n",
            "Requirement already satisfied: decorator>=4.3.0 in /usr/local/lib/python3.10/dist-packages (from librosa) (4.4.2)\n",
            "Requirement already satisfied: numba>=0.51.0 in /usr/local/lib/python3.10/dist-packages (from librosa) (0.60.0)\n",
            "Requirement already satisfied: soundfile>=0.12.1 in /usr/local/lib/python3.10/dist-packages (from librosa) (0.12.1)\n",
            "Requirement already satisfied: pooch>=1.1 in /usr/local/lib/python3.10/dist-packages (from librosa) (1.8.2)\n",
            "Requirement already satisfied: soxr>=0.3.2 in /usr/local/lib/python3.10/dist-packages (from librosa) (0.5.0.post1)\n",
            "Requirement already satisfied: typing-extensions>=4.1.1 in /usr/local/lib/python3.10/dist-packages (from librosa) (4.12.2)\n",
            "Requirement already satisfied: lazy-loader>=0.1 in /usr/local/lib/python3.10/dist-packages (from librosa) (0.4)\n",
            "Requirement already satisfied: msgpack>=1.0 in /usr/local/lib/python3.10/dist-packages (from librosa) (1.1.0)\n",
            "Requirement already satisfied: more-itertools>=8.5.0 in /usr/local/lib/python3.10/dist-packages (from inflect) (10.5.0)\n",
            "Requirement already satisfied: typeguard>=4.0.1 in /usr/local/lib/python3.10/dist-packages (from inflect) (4.4.1)\n",
            "Requirement already satisfied: packaging in /usr/local/lib/python3.10/dist-packages (from lazy-loader>=0.1->librosa) (24.2)\n",
            "Requirement already satisfied: llvmlite<0.44,>=0.43.0dev0 in /usr/local/lib/python3.10/dist-packages (from numba>=0.51.0->librosa) (0.43.0)\n",
            "Requirement already satisfied: platformdirs>=2.5.0 in /usr/local/lib/python3.10/dist-packages (from pooch>=1.1->librosa) (4.3.6)\n",
            "Requirement already satisfied: requests>=2.19.0 in /usr/local/lib/python3.10/dist-packages (from pooch>=1.1->librosa) (2.32.3)\n",
            "Requirement already satisfied: threadpoolctl>=3.1.0 in /usr/local/lib/python3.10/dist-packages (from scikit-learn>=0.20.0->librosa) (3.5.0)\n",
            "Requirement already satisfied: cffi>=1.0 in /usr/local/lib/python3.10/dist-packages (from soundfile>=0.12.1->librosa) (1.17.1)\n",
            "Requirement already satisfied: pycparser in /usr/local/lib/python3.10/dist-packages (from cffi>=1.0->soundfile>=0.12.1->librosa) (2.22)\n",
            "Requirement already satisfied: charset-normalizer<4,>=2 in /usr/local/lib/python3.10/dist-packages (from requests>=2.19.0->pooch>=1.1->librosa) (3.4.0)\n",
            "Requirement already satisfied: idna<4,>=2.5 in /usr/local/lib/python3.10/dist-packages (from requests>=2.19.0->pooch>=1.1->librosa) (3.10)\n",
            "Requirement already satisfied: urllib3<3,>=1.21.1 in /usr/local/lib/python3.10/dist-packages (from requests>=2.19.0->pooch>=1.1->librosa) (2.2.3)\n",
            "Requirement already satisfied: certifi>=2017.4.17 in /usr/local/lib/python3.10/dist-packages (from requests>=2.19.0->pooch>=1.1->librosa) (2024.8.30)\n",
            "Downloading Unidecode-1.3.8-py3-none-any.whl (235 kB)\n",
            "   ━━━━━━━━━━━━━━━━━━━━━━━━━━━━━━━━━━━━━━━━ 235.5/235.5 kB 13.3 MB/s eta 0:00:00\n",
            "Installing collected packages: unidecode\n",
            "Successfully installed unidecode-1.3.8\n",
            "Get:1 https://cloud.r-project.org/bin/linux/ubuntu jammy-cran40/ InRelease [3,626 B]\n",
            "Get:2 https://developer.download.nvidia.com/compute/cuda/repos/ubuntu2204/x86_64  InRelease [1,581 B]\n",
            "Get:3 https://developer.download.nvidia.com/compute/cuda/repos/ubuntu2204/x86_64  Packages [1,192 kB]\n",
            "Get:4 http://security.ubuntu.com/ubuntu jammy-security InRelease [129 kB]\n",
            "Hit:5 http://archive.ubuntu.com/ubuntu jammy InRelease\n",
            "Get:6 http://archive.ubuntu.com/ubuntu jammy-updates InRelease [128 kB]\n",
            "Get:7 https://r2u.stat.illinois.edu/ubuntu jammy InRelease [6,555 B]\n",
            "Get:8 https://ppa.launchpadcontent.net/deadsnakes/ppa/ubuntu jammy InRelease [18.1 kB]\n",
            "Get:9 https://r2u.stat.illinois.edu/ubuntu jammy/main all Packages [8,531 kB]\n",
            "Hit:10 https://ppa.launchpadcontent.net/graphics-drivers/ppa/ubuntu jammy InRelease\n",
            "Hit:11 https://ppa.launchpadcontent.net/ubuntugis/ppa/ubuntu jammy InRelease\n",
            "Get:12 http://archive.ubuntu.com/ubuntu jammy-backports InRelease [127 kB]\n",
            "Get:13 https://ppa.launchpadcontent.net/deadsnakes/ppa/ubuntu jammy/main amd64 Packages [32.9 kB]\n",
            "Get:14 http://security.ubuntu.com/ubuntu jammy-security/main amd64 Packages [2,454 kB]\n",
            "Get:15 http://archive.ubuntu.com/ubuntu jammy-updates/main amd64 Packages [2,738 kB]\n",
            "Get:16 https://r2u.stat.illinois.edu/ubuntu jammy/main amd64 Packages [2,626 kB]\n",
            "Fetched 18.0 MB in 4s (4,141 kB/s)\n",
            "Reading package lists...\n",
            "Reading package lists...\n",
            "Building dependency tree...\n",
            "Reading state information...\n",
            "libsndfile1 is already the newest version (1.0.31-2ubuntu0.1).\n",
            "0 upgraded, 0 newly installed, 0 to remove and 52 not upgraded.\n"
          ]
        },
        {
          "output_type": "stream",
          "name": "stderr",
          "text": [
            "W: Skipping acquire of configured file 'main/source/Sources' as repository 'https://r2u.stat.illinois.edu/ubuntu jammy InRelease' does not seem to provide it (sources.list entry misspelt?)\n"
          ]
        }
      ]
    },
    {
      "cell_type": "code",
      "source": [
        "import torch\n",
        "tacotron2 = torch.hub.load('NVIDIA/DeepLearningExamples:torchhub', 'nvidia_tacotron2', model_math='fp16')\n",
        "tacotron2 = tacotron2.to('cuda')\n",
        "tacotron2.eval()"
      ],
      "metadata": {
        "colab": {
          "base_uri": "https://localhost:8080/"
        },
        "id": "zdBqq1DWGlqf",
        "outputId": "b3c424d1-8bf0-493a-d4fb-ae13b64dd712"
      },
      "execution_count": 20,
      "outputs": [
        {
          "output_type": "stream",
          "name": "stderr",
          "text": [
            "/usr/local/lib/python3.10/dist-packages/torch/hub.py:330: UserWarning: You are about to download and run code from an untrusted repository. In a future release, this won't be allowed. To add the repository to your trusted list, change the command to {calling_fn}(..., trust_repo=False) and a command prompt will appear asking for an explicit confirmation of trust, or load(..., trust_repo=True), which will assume that the prompt is to be answered with 'yes'. You can also use load(..., trust_repo='check') which will only prompt for confirmation if the repo is not already trusted. This will eventually be the default behaviour\n",
            "  warnings.warn(\n",
            "Downloading: \"https://github.com/NVIDIA/DeepLearningExamples/zipball/torchhub\" to /root/.cache/torch/hub/torchhub.zip\n",
            "/root/.cache/torch/hub/NVIDIA_DeepLearningExamples_torchhub/PyTorch/Classification/ConvNets/image_classification/models/common.py:13: UserWarning: pytorch_quantization module not found, quantization will not be available\n",
            "  warnings.warn(\n",
            "/root/.cache/torch/hub/NVIDIA_DeepLearningExamples_torchhub/PyTorch/Classification/ConvNets/image_classification/models/efficientnet.py:17: UserWarning: pytorch_quantization module not found, quantization will not be available\n",
            "  warnings.warn(\n",
            "Downloading checkpoint from https://api.ngc.nvidia.com/v2/models/nvidia/tacotron2_pyt_ckpt_amp/versions/19.09.0/files/nvidia_tacotron2pyt_fp16_20190427\n",
            "/root/.cache/torch/hub/NVIDIA_DeepLearningExamples_torchhub/PyTorch/SpeechSynthesis/Tacotron2/tacotron2/entrypoints.py:99: FutureWarning: You are using `torch.load` with `weights_only=False` (the current default value), which uses the default pickle module implicitly. It is possible to construct malicious pickle data which will execute arbitrary code during unpickling (See https://github.com/pytorch/pytorch/blob/main/SECURITY.md#untrusted-models for more details). In a future release, the default value for `weights_only` will be flipped to `True`. This limits the functions that could be executed during unpickling. Arbitrary objects will no longer be allowed to be loaded via this mode unless they are explicitly allowlisted by the user via `torch.serialization.add_safe_globals`. We recommend you start setting `weights_only=True` for any use case where you don't have full control of the loaded file. Please open an issue on GitHub for any issues related to this experimental feature.\n",
            "  ckpt = torch.load(ckpt_file)\n"
          ]
        },
        {
          "output_type": "execute_result",
          "data": {
            "text/plain": [
              "Tacotron2(\n",
              "  (embedding): Embedding(148, 512)\n",
              "  (encoder): Encoder(\n",
              "    (convolutions): ModuleList(\n",
              "      (0-2): 3 x Sequential(\n",
              "        (0): ConvNorm(\n",
              "          (conv): Conv1d(512, 512, kernel_size=(5,), stride=(1,), padding=(2,))\n",
              "        )\n",
              "        (1): BatchNorm1d(512, eps=1e-05, momentum=0.1, affine=True, track_running_stats=True)\n",
              "      )\n",
              "    )\n",
              "    (lstm): LSTM(512, 256, batch_first=True, bidirectional=True)\n",
              "  )\n",
              "  (decoder): Decoder(\n",
              "    (prenet): Prenet(\n",
              "      (layers): ModuleList(\n",
              "        (0): LinearNorm(\n",
              "          (linear_layer): Linear(in_features=80, out_features=256, bias=False)\n",
              "        )\n",
              "        (1): LinearNorm(\n",
              "          (linear_layer): Linear(in_features=256, out_features=256, bias=False)\n",
              "        )\n",
              "      )\n",
              "    )\n",
              "    (attention_rnn): LSTMCell(768, 1024)\n",
              "    (attention_layer): Attention(\n",
              "      (query_layer): LinearNorm(\n",
              "        (linear_layer): Linear(in_features=1024, out_features=128, bias=False)\n",
              "      )\n",
              "      (memory_layer): LinearNorm(\n",
              "        (linear_layer): Linear(in_features=512, out_features=128, bias=False)\n",
              "      )\n",
              "      (v): LinearNorm(\n",
              "        (linear_layer): Linear(in_features=128, out_features=1, bias=False)\n",
              "      )\n",
              "      (location_layer): LocationLayer(\n",
              "        (location_conv): ConvNorm(\n",
              "          (conv): Conv1d(2, 32, kernel_size=(31,), stride=(1,), padding=(15,), bias=False)\n",
              "        )\n",
              "        (location_dense): LinearNorm(\n",
              "          (linear_layer): Linear(in_features=32, out_features=128, bias=False)\n",
              "        )\n",
              "      )\n",
              "    )\n",
              "    (decoder_rnn): LSTMCell(1536, 1024, bias=1)\n",
              "    (linear_projection): LinearNorm(\n",
              "      (linear_layer): Linear(in_features=1536, out_features=80, bias=True)\n",
              "    )\n",
              "    (gate_layer): LinearNorm(\n",
              "      (linear_layer): Linear(in_features=1536, out_features=1, bias=True)\n",
              "    )\n",
              "  )\n",
              "  (postnet): Postnet(\n",
              "    (convolutions): ModuleList(\n",
              "      (0): Sequential(\n",
              "        (0): ConvNorm(\n",
              "          (conv): Conv1d(80, 512, kernel_size=(5,), stride=(1,), padding=(2,))\n",
              "        )\n",
              "        (1): BatchNorm1d(512, eps=1e-05, momentum=0.1, affine=True, track_running_stats=True)\n",
              "      )\n",
              "      (1-3): 3 x Sequential(\n",
              "        (0): ConvNorm(\n",
              "          (conv): Conv1d(512, 512, kernel_size=(5,), stride=(1,), padding=(2,))\n",
              "        )\n",
              "        (1): BatchNorm1d(512, eps=1e-05, momentum=0.1, affine=True, track_running_stats=True)\n",
              "      )\n",
              "      (4): Sequential(\n",
              "        (0): ConvNorm(\n",
              "          (conv): Conv1d(512, 80, kernel_size=(5,), stride=(1,), padding=(2,))\n",
              "        )\n",
              "        (1): BatchNorm1d(80, eps=1e-05, momentum=0.1, affine=True, track_running_stats=True)\n",
              "      )\n",
              "    )\n",
              "  )\n",
              ")"
            ]
          },
          "metadata": {},
          "execution_count": 20
        }
      ]
    },
    {
      "cell_type": "code",
      "source": [
        "waveglow = torch.hub.load('NVIDIA/DeepLearningExamples:torchhub', 'nvidia_waveglow', model_math='fp16')\n",
        "waveglow = waveglow.remove_weightnorm(waveglow)\n",
        "waveglow = waveglow.to('cuda')\n",
        "waveglow.eval()"
      ],
      "metadata": {
        "colab": {
          "base_uri": "https://localhost:8080/"
        },
        "id": "dFn3bUinHEx8",
        "outputId": "ad349312-be10-4298-bb9f-c6c27ae42f32"
      },
      "execution_count": 21,
      "outputs": [
        {
          "output_type": "stream",
          "name": "stderr",
          "text": [
            "Using cache found in /root/.cache/torch/hub/NVIDIA_DeepLearningExamples_torchhub\n",
            "Downloading checkpoint from https://api.ngc.nvidia.com/v2/models/nvidia/waveglow_ckpt_amp/versions/19.09.0/files/nvidia_waveglowpyt_fp16_20190427\n",
            "/root/.cache/torch/hub/NVIDIA_DeepLearningExamples_torchhub/PyTorch/SpeechSynthesis/Tacotron2/waveglow/entrypoints.py:96: FutureWarning: You are using `torch.load` with `weights_only=False` (the current default value), which uses the default pickle module implicitly. It is possible to construct malicious pickle data which will execute arbitrary code during unpickling (See https://github.com/pytorch/pytorch/blob/main/SECURITY.md#untrusted-models for more details). In a future release, the default value for `weights_only` will be flipped to `True`. This limits the functions that could be executed during unpickling. Arbitrary objects will no longer be allowed to be loaded via this mode unless they are explicitly allowlisted by the user via `torch.serialization.add_safe_globals`. We recommend you start setting `weights_only=True` for any use case where you don't have full control of the loaded file. Please open an issue on GitHub for any issues related to this experimental feature.\n",
            "  ckpt = torch.load(ckpt_file)\n",
            "/usr/local/lib/python3.10/dist-packages/torch/nn/utils/weight_norm.py:143: FutureWarning: `torch.nn.utils.weight_norm` is deprecated in favor of `torch.nn.utils.parametrizations.weight_norm`.\n",
            "  WeightNorm.apply(module, name, dim)\n"
          ]
        },
        {
          "output_type": "execute_result",
          "data": {
            "text/plain": [
              "WaveGlow(\n",
              "  (upsample): ConvTranspose1d(80, 80, kernel_size=(1024,), stride=(256,))\n",
              "  (WN): ModuleList(\n",
              "    (0-3): 4 x WN(\n",
              "      (in_layers): ModuleList(\n",
              "        (0): Conv1d(512, 1024, kernel_size=(3,), stride=(1,), padding=(1,))\n",
              "        (1): Conv1d(512, 1024, kernel_size=(3,), stride=(1,), padding=(2,), dilation=(2,))\n",
              "        (2): Conv1d(512, 1024, kernel_size=(3,), stride=(1,), padding=(4,), dilation=(4,))\n",
              "        (3): Conv1d(512, 1024, kernel_size=(3,), stride=(1,), padding=(8,), dilation=(8,))\n",
              "        (4): Conv1d(512, 1024, kernel_size=(3,), stride=(1,), padding=(16,), dilation=(16,))\n",
              "        (5): Conv1d(512, 1024, kernel_size=(3,), stride=(1,), padding=(32,), dilation=(32,))\n",
              "        (6): Conv1d(512, 1024, kernel_size=(3,), stride=(1,), padding=(64,), dilation=(64,))\n",
              "        (7): Conv1d(512, 1024, kernel_size=(3,), stride=(1,), padding=(128,), dilation=(128,))\n",
              "      )\n",
              "      (res_skip_layers): ModuleList(\n",
              "        (0-6): 7 x Conv1d(512, 1024, kernel_size=(1,), stride=(1,))\n",
              "        (7): Conv1d(512, 512, kernel_size=(1,), stride=(1,))\n",
              "      )\n",
              "      (cond_layers): ModuleList(\n",
              "        (0-7): 8 x Conv1d(640, 1024, kernel_size=(1,), stride=(1,))\n",
              "      )\n",
              "      (start): Conv1d(4, 512, kernel_size=(1,), stride=(1,))\n",
              "      (end): Conv1d(512, 8, kernel_size=(1,), stride=(1,))\n",
              "    )\n",
              "    (4-7): 4 x WN(\n",
              "      (in_layers): ModuleList(\n",
              "        (0): Conv1d(512, 1024, kernel_size=(3,), stride=(1,), padding=(1,))\n",
              "        (1): Conv1d(512, 1024, kernel_size=(3,), stride=(1,), padding=(2,), dilation=(2,))\n",
              "        (2): Conv1d(512, 1024, kernel_size=(3,), stride=(1,), padding=(4,), dilation=(4,))\n",
              "        (3): Conv1d(512, 1024, kernel_size=(3,), stride=(1,), padding=(8,), dilation=(8,))\n",
              "        (4): Conv1d(512, 1024, kernel_size=(3,), stride=(1,), padding=(16,), dilation=(16,))\n",
              "        (5): Conv1d(512, 1024, kernel_size=(3,), stride=(1,), padding=(32,), dilation=(32,))\n",
              "        (6): Conv1d(512, 1024, kernel_size=(3,), stride=(1,), padding=(64,), dilation=(64,))\n",
              "        (7): Conv1d(512, 1024, kernel_size=(3,), stride=(1,), padding=(128,), dilation=(128,))\n",
              "      )\n",
              "      (res_skip_layers): ModuleList(\n",
              "        (0-6): 7 x Conv1d(512, 1024, kernel_size=(1,), stride=(1,))\n",
              "        (7): Conv1d(512, 512, kernel_size=(1,), stride=(1,))\n",
              "      )\n",
              "      (cond_layers): ModuleList(\n",
              "        (0-7): 8 x Conv1d(640, 1024, kernel_size=(1,), stride=(1,))\n",
              "      )\n",
              "      (start): Conv1d(3, 512, kernel_size=(1,), stride=(1,))\n",
              "      (end): Conv1d(512, 6, kernel_size=(1,), stride=(1,))\n",
              "    )\n",
              "    (8-11): 4 x WN(\n",
              "      (in_layers): ModuleList(\n",
              "        (0): Conv1d(512, 1024, kernel_size=(3,), stride=(1,), padding=(1,))\n",
              "        (1): Conv1d(512, 1024, kernel_size=(3,), stride=(1,), padding=(2,), dilation=(2,))\n",
              "        (2): Conv1d(512, 1024, kernel_size=(3,), stride=(1,), padding=(4,), dilation=(4,))\n",
              "        (3): Conv1d(512, 1024, kernel_size=(3,), stride=(1,), padding=(8,), dilation=(8,))\n",
              "        (4): Conv1d(512, 1024, kernel_size=(3,), stride=(1,), padding=(16,), dilation=(16,))\n",
              "        (5): Conv1d(512, 1024, kernel_size=(3,), stride=(1,), padding=(32,), dilation=(32,))\n",
              "        (6): Conv1d(512, 1024, kernel_size=(3,), stride=(1,), padding=(64,), dilation=(64,))\n",
              "        (7): Conv1d(512, 1024, kernel_size=(3,), stride=(1,), padding=(128,), dilation=(128,))\n",
              "      )\n",
              "      (res_skip_layers): ModuleList(\n",
              "        (0-6): 7 x Conv1d(512, 1024, kernel_size=(1,), stride=(1,))\n",
              "        (7): Conv1d(512, 512, kernel_size=(1,), stride=(1,))\n",
              "      )\n",
              "      (cond_layers): ModuleList(\n",
              "        (0-7): 8 x Conv1d(640, 1024, kernel_size=(1,), stride=(1,))\n",
              "      )\n",
              "      (start): Conv1d(2, 512, kernel_size=(1,), stride=(1,))\n",
              "      (end): Conv1d(512, 4, kernel_size=(1,), stride=(1,))\n",
              "    )\n",
              "  )\n",
              "  (convinv): ModuleList(\n",
              "    (0-3): 4 x Invertible1x1Conv(\n",
              "      (conv): Conv1d(8, 8, kernel_size=(1,), stride=(1,), bias=False)\n",
              "    )\n",
              "    (4-7): 4 x Invertible1x1Conv(\n",
              "      (conv): Conv1d(6, 6, kernel_size=(1,), stride=(1,), bias=False)\n",
              "    )\n",
              "    (8-11): 4 x Invertible1x1Conv(\n",
              "      (conv): Conv1d(4, 4, kernel_size=(1,), stride=(1,), bias=False)\n",
              "    )\n",
              "  )\n",
              ")"
            ]
          },
          "metadata": {},
          "execution_count": 21
        }
      ]
    },
    {
      "cell_type": "code",
      "source": [
        "text = \" \".join(translation)\n",
        "print(text)"
      ],
      "metadata": {
        "colab": {
          "base_uri": "https://localhost:8080/"
        },
        "id": "SsetUuTfHvCZ",
        "outputId": "f7454961-10fb-451e-b0b3-7a4020770276"
      },
      "execution_count": 23,
      "outputs": [
        {
          "output_type": "stream",
          "name": "stdout",
          "text": [
            "안녕, 그건 시험이 아니죠? 여러분이 볼 수 있다면, 그건 보고 있어요. 그건 주제예요. 네, 그건 그거예요. 그리고 저는 그걸 옳게 할 겁니다.\n"
          ]
        }
      ]
    },
    {
      "cell_type": "code",
      "source": [
        "utils = torch.hub.load('NVIDIA/DeepLearningExamples:torchhub', 'nvidia_tts_utils')\n",
        "sequences, lengths = utils.prepare_input_sequence([text])"
      ],
      "metadata": {
        "colab": {
          "base_uri": "https://localhost:8080/"
        },
        "id": "_Mjpk4_cHEuw",
        "outputId": "7d0b685b-41fc-4524-9861-7a094cdac24f"
      },
      "execution_count": 24,
      "outputs": [
        {
          "output_type": "stream",
          "name": "stderr",
          "text": [
            "Using cache found in /root/.cache/torch/hub/NVIDIA_DeepLearningExamples_torchhub\n",
            "sys:1: UserWarning: Unexpected character 안: please revise your text cleaning rules.\n"
          ]
        }
      ]
    },
    {
      "cell_type": "code",
      "source": [
        "with torch.no_grad():\n",
        "    mel, _, _ = tacotron2.infer(sequences, lengths)\n",
        "    audio = waveglow.infer(mel)\n",
        "audio_numpy = audio[0].data.cpu().numpy()\n",
        "rate = 22050"
      ],
      "metadata": {
        "id": "_iE8INXQHEsG"
      },
      "execution_count": 25,
      "outputs": []
    },
    {
      "cell_type": "code",
      "source": [
        "from scipy.io.wavfile import write\n",
        "write(\"audio.wav\", rate, audio_numpy)"
      ],
      "metadata": {
        "id": "WIdXurnOHEpL"
      },
      "execution_count": 26,
      "outputs": []
    },
    {
      "cell_type": "code",
      "source": [
        "from IPython.display import Audio\n",
        "Audio(audio_numpy, rate=rate)"
      ],
      "metadata": {
        "colab": {
          "base_uri": "https://localhost:8080/",
          "height": 76
        },
        "id": "zvGFp2qpHEms",
        "outputId": "e790fc5b-7b9f-4036-b84a-1c7047d7cc4b"
      },
      "execution_count": 27,
      "outputs": [
        {
          "output_type": "execute_result",
          "data": {
            "text/plain": [
              "<IPython.lib.display.Audio object>"
            ],
            "text/html": [
              "\n",
              "                <audio  controls=\"controls\" >\n",
              "                    <source src=\"data:audio/wav;base64,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\" type=\"audio/wav\" />\n",
              "                    Your browser does not support the audio element.\n",
              "                </audio>\n",
              "              "
            ]
          },
          "metadata": {},
          "execution_count": 27
        }
      ]
    },
    {
      "cell_type": "code",
      "source": [],
      "metadata": {
        "id": "0qj5G7HTHEjl"
      },
      "execution_count": null,
      "outputs": []
    },
    {
      "cell_type": "code",
      "source": [],
      "metadata": {
        "id": "XGmBVYLqGlmw"
      },
      "execution_count": null,
      "outputs": []
    },
    {
      "cell_type": "code",
      "source": [],
      "metadata": {
        "id": "DDT9A-oJGljJ"
      },
      "execution_count": null,
      "outputs": []
    },
    {
      "cell_type": "code",
      "source": [],
      "metadata": {
        "id": "9baMDk21Glf3"
      },
      "execution_count": null,
      "outputs": []
    },
    {
      "cell_type": "code",
      "source": [],
      "metadata": {
        "id": "N0MU6yfbGlcj"
      },
      "execution_count": null,
      "outputs": []
    }
  ]
}